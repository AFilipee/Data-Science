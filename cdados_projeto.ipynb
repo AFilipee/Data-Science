{
  "nbformat": 4,
  "nbformat_minor": 0,
  "metadata": {
    "colab": {
      "name": "cdados_projeto.ipynb",
      "provenance": [],
      "collapsed_sections": [],
      "include_colab_link": true
    },
    "kernelspec": {
      "name": "python3",
      "display_name": "Python 3"
    }
  },
  "cells": [
    {
      "cell_type": "markdown",
      "metadata": {
        "id": "view-in-github",
        "colab_type": "text"
      },
      "source": [
        "<a href=\"https://colab.research.google.com/github/diogo-costa98/cdados/blob/main/cdados_projeto.ipynb\" target=\"_parent\"><img src=\"https://colab.research.google.com/assets/colab-badge.svg\" alt=\"Open In Colab\"/></a>"
      ]
    },
    {
      "cell_type": "code",
      "metadata": {
        "id": "RGgq-bBUfCFq",
        "outputId": "ff372afd-1d83-4a01-c73c-205d2d4d32cc",
        "colab": {
          "base_uri": "https://localhost:8080/",
          "height": 191
        }
      },
      "source": [
        "for i in range (0,10):\n",
        "  print(\"I can edit \", i)"
      ],
      "execution_count": null,
      "outputs": [
        {
          "output_type": "stream",
          "text": [
            "I can edit  0\n",
            "I can edit  1\n",
            "I can edit  2\n",
            "I can edit  3\n",
            "I can edit  4\n",
            "I can edit  5\n",
            "I can edit  6\n",
            "I can edit  7\n",
            "I can edit  8\n",
            "I can edit  9\n"
          ],
          "name": "stdout"
        }
      ]
    }
  ]
}