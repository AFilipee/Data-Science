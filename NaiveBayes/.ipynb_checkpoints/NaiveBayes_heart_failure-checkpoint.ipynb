{
 "cells": [
  {
   "cell_type": "markdown",
   "metadata": {},
   "source": [
    "# Training strategies"
   ]
  },
  {
   "cell_type": "code",
   "execution_count": 1,
   "metadata": {},
   "outputs": [
    {
     "name": "stdout",
     "output_type": "stream",
     "text": [
      "0    203\n",
      "1     96\n",
      "Name: DEATH_EVENT, dtype: int64\n"
     ]
    }
   ],
   "source": [
    "import copy \n",
    "import numpy as np\n",
    "import pandas as pd\n",
    "import matplotlib.pyplot as plt\n",
    "import ds_functions as ds\n",
    "from imblearn.under_sampling import EditedNearestNeighbours\n",
    "from sklearn.model_selection import train_test_split\n",
    "from statistics import mean \n",
    "\n",
    "data: pd.DataFrame = pd.read_csv('datasets/heart_failure_clinical_records_dataset.csv')\n",
    "original_data = copy.deepcopy(data)\n",
    "target = 'DEATH_EVENT'\n",
    "positive = 'positive'\n",
    "negative = 'negative'\n",
    "print(data[target].value_counts())\n",
    "values = {'Original': [len(data[data[target] == positive]), len(data[data[target] == negative])]}\n",
    "y: np.ndarray = data.pop(target).values\n",
    "X: np.ndarray = data.values\n",
    "labels: np.ndarray = pd.unique(y)"
   ]
  },
  {
   "cell_type": "code",
   "execution_count": 2,
   "metadata": {},
   "outputs": [
    {
     "data": {
      "image/png": "[encoded data removed]",
      "text/plain": [
       "<Figure size 600x450 with 1 Axes>"
      ]
     },
     "metadata": {
      "needs_background": "dark"
     },
     "output_type": "display_data"
    },
    {
     "name": "stdout",
     "output_type": "stream",
     "text": [
      "IS_TOXIC = Positive Minority class: 96\n",
      "IS_TOXIC = Negative Majority class: 203\n",
      "Proportion: 0.47 : 1\n"
     ]
    }
   ],
   "source": [
    "target_count = original_data[target].value_counts()\n",
    "plt.figure()\n",
    "plt.title('Class balance')\n",
    "plt.bar(target_count.index, target_count.values)\n",
    "plt.show()\n",
    "\n",
    "min_class = target_count.idxmin()\n",
    "ind_min_class = target_count.index.get_loc(min_class)\n",
    "\n",
    "print('IS_TOXIC = Positive Minority class:', target_count[ind_min_class])\n",
    "print('IS_TOXIC = Negative Majority class:', target_count[1-ind_min_class])\n",
    "print('Proportion:', round(target_count[ind_min_class] / target_count[1-ind_min_class], 2), ': 1')"
   ]
  },
  {
   "cell_type": "markdown",
   "metadata": {},
   "source": [
    "Given the prior proportion, we consider that a Data Balancing Technique is needed."
   ]
  },
  {
   "cell_type": "markdown",
   "metadata": {},
   "source": [
    "# Unbalanced Naive Bayes"
   ]
  },
  {
   "cell_type": "code",
   "execution_count": 3,
   "metadata": {},
   "outputs": [],
   "source": [
    "import numpy as np\n",
    "import pandas as pd\n",
    "import matplotlib.pyplot as plt\n",
    "from sklearn.model_selection import train_test_split\n",
    "import sklearn.metrics as metrics\n",
    "from sklearn.naive_bayes import *\n",
    "import ds_functions as ds\n",
    "from sklearn.model_selection import cross_validate\n",
    "from sklearn.metrics import accuracy_score\n",
    "from sklearn.metrics import precision_score\n",
    "from sklearn.metrics import recall_score\n",
    "\n",
    "\n",
    "data: pd.DataFrame = pd.read_csv('datasets/heart_failure_clinical_records_dataset.csv')\n",
    "y: np.ndarray = data.pop(target).values\n",
    "X: np.ndarray = data.values\n",
    "labels = pd.unique(y)"
   ]
  },
  {
   "cell_type": "markdown",
   "metadata": {},
   "source": [
    "## Multinomial"
   ]
  },
  {
   "cell_type": "code",
   "execution_count": 4,
   "metadata": {
    "scrolled": false
   },
   "outputs": [
    {
     "name": "stdout",
     "output_type": "stream",
     "text": [
      "{'test_accuracy': 0.6623333333333333, 'test_precision': 0.7391779965619628, 'test_recall': 0.7754098360655738}\n"
     ]
    }
   ],
   "source": [
    "clf = MultinomialNB()\n",
    "avg_scores = {'test_accuracy':0, 'test_precision':0, 'test_recall':0}\n",
    "\n",
    "total=[0,0,0,0]\n",
    "for ix in range(100):\n",
    "    trnX, tstX, trnY, tstY = train_test_split(X, y, train_size=0.7, stratify=y)\n",
    "    clf.fit(trnX, trnY)\n",
    "    prd_trn = clf.predict(trnX)\n",
    "    prd_tst = clf.predict(tstX)\n",
    "    cnf_mtx_tst = metrics.confusion_matrix(tstY, prd_tst, labels)\n",
    "    tn, fp, fn, tp = cnf_mtx_tst.ravel()\n",
    "    total[0]+=tp\n",
    "    total[1]+=tn\n",
    "    total[2]+=fp\n",
    "    total[3]+=fn\n",
    "\n",
    "\n",
    "avg_scores['test_accuracy'] = (total[0]+total[1])/(total[0]+total[1]+total[2]+total[3])\n",
    "avg_scores['test_precision'] = total[0]/(total[0]+total[2])\n",
    "avg_scores['test_recall'] = total[0]/(total[0]+total[3])\n",
    "\n",
    "print(avg_scores)"
   ]
  },
  {
   "cell_type": "markdown",
   "metadata": {},
   "source": [
    "## Gaussian"
   ]
  },
  {
   "cell_type": "code",
   "execution_count": 5,
   "metadata": {},
   "outputs": [
    {
     "name": "stdout",
     "output_type": "stream",
     "text": [
      "{'test_accuracy': 0.7964444444444444, 'test_precision': 0.8033835655388115, 'test_recall': 0.9263934426229509}\n"
     ]
    }
   ],
   "source": [
    "clf = GaussianNB()\n",
    "avg_scores = {'test_accuracy':0, 'test_precision':0, 'test_recall':0}\n",
    "\n",
    "total=[0,0,0,0]\n",
    "for ix in range(100):\n",
    "    trnX, tstX, trnY, tstY = train_test_split(X, y, train_size=0.7, stratify=y)\n",
    "    clf.fit(trnX, trnY)\n",
    "    prd_trn = clf.predict(trnX)\n",
    "    prd_tst = clf.predict(tstX)\n",
    "    cnf_mtx_tst = metrics.confusion_matrix(tstY, prd_tst, labels)\n",
    "    tn, fp, fn, tp = cnf_mtx_tst.ravel()\n",
    "    total[0]+=tp\n",
    "    total[1]+=tn\n",
    "    total[2]+=fp\n",
    "    total[3]+=fn\n",
    "\n",
    "\n",
    "avg_scores['test_accuracy'] = (total[0]+total[1])/(total[0]+total[1]+total[2]+total[3])\n",
    "avg_scores['test_precision'] = total[0]/(total[0]+total[2])\n",
    "avg_scores['test_recall'] = total[0]/(total[0]+total[3])\n",
    "\n",
    "print(avg_scores)"
   ]
  },
  {
   "cell_type": "markdown",
   "metadata": {},
   "source": [
    "## Bernoulli"
   ]
  },
  {
   "cell_type": "code",
   "execution_count": 6,
   "metadata": {},
   "outputs": [
    {
     "name": "stdout",
     "output_type": "stream",
     "text": [
      "{'test_accuracy': 0.6767777777777778, 'test_precision': 0.6776132695090727, 'test_recall': 0.9978688524590164}\n"
     ]
    }
   ],
   "source": [
    "clf = BernoulliNB()\n",
    "avg_scores = {'test_accuracy':0, 'test_precision':0, 'test_recall':0}\n",
    "\n",
    "total=[0,0,0,0]\n",
    "for ix in range(100):\n",
    "    trnX, tstX, trnY, tstY = train_test_split(X, y, train_size=0.7, stratify=y)\n",
    "    clf.fit(trnX, trnY)\n",
    "    prd_trn = clf.predict(trnX)\n",
    "    prd_tst = clf.predict(tstX)\n",
    "    cnf_mtx_tst = metrics.confusion_matrix(tstY, prd_tst, labels)\n",
    "    tn, fp, fn, tp = cnf_mtx_tst.ravel()\n",
    "    total[0]+=tp\n",
    "    total[1]+=tn\n",
    "    total[2]+=fp\n",
    "    total[3]+=fn\n",
    "\n",
    "\n",
    "avg_scores['test_accuracy'] = (total[0]+total[1])/(total[0]+total[1]+total[2]+total[3])\n",
    "avg_scores['test_precision'] = total[0]/(total[0]+total[2])\n",
    "avg_scores['test_recall'] = total[0]/(total[0]+total[3])\n",
    "\n",
    "print(avg_scores)"
   ]
  },
  {
   "cell_type": "markdown",
   "metadata": {},
   "source": [
    "# Preparing data for balancing"
   ]
  },
  {
   "cell_type": "code",
   "execution_count": 9,
   "metadata": {},
   "outputs": [],
   "source": [
    "data: pd.DataFrame = pd.read_csv('datasets/heart_failure_clinical_records_dataset.csv')"
   ]
  },
  {
   "cell_type": "code",
   "execution_count": 11,
   "metadata": {},
   "outputs": [],
   "source": [
    "import random\n",
    "def balancing(trnX, trnY, undersample, oversample):\n",
    "    #undersample, oversample = 1,0 => undersample\n",
    "    #undersample, oversample = 0,1 => oversample\n",
    "    unique, counts = np.unique(trnY, return_counts=True)\n",
    "    \n",
    "    min_positive_counts = min(counts)\n",
    "    min_negative_counts = max(counts)+(min(counts)-max(counts))*undersample\n",
    "    newtrnY: np.ndarray = []\n",
    "    newtrnX: np.ndarray = []\n",
    "    for idx in range(len(trnY)):\n",
    "        if min_positive_counts > 0 and trnY[idx] == 1:\n",
    "            newtrnY.append(trnY[idx])\n",
    "            newtrnX.append(trnX[idx])\n",
    "            min_positive_counts -= 1\n",
    "        elif min_negative_counts > 0 and trnY[idx] == 0:\n",
    "            newtrnY.append(trnY[idx])\n",
    "            newtrnX.append(trnX[idx])\n",
    "            min_negative_counts -= 1\n",
    "            \n",
    "    unique1, counts1 = np.unique(newtrnY, return_counts=True)\n",
    "    \n",
    "    max_positive_counts = min(counts1)+(max(counts1)-min(counts1))*oversample\n",
    "    max_negative_counts = max(counts1)\n",
    "    finaltrnY: np.ndarray = []\n",
    "    finaltrnX: np.ndarray = []\n",
    "    negX: np.ndarray = []\n",
    "    posX: np.ndarray = []\n",
    "    negY: np.ndarray = []\n",
    "    posY: np.ndarray = []\n",
    "        \n",
    "    for idx in range(len(newtrnY)):\n",
    "        if newtrnY[idx] == 0:\n",
    "            finaltrnY.append(newtrnY[idx])\n",
    "            negY.append(newtrnY[idx])\n",
    "            finaltrnX.append(newtrnX[idx])\n",
    "            negX.append(newtrnX[idx])\n",
    "            max_negative_counts -= 1\n",
    "        elif newtrnY[idx] == 1:\n",
    "            finaltrnY.append(newtrnY[idx])\n",
    "            posY.append(newtrnY[idx])\n",
    "            finaltrnX.append(newtrnX[idx])\n",
    "            posX.append(newtrnX[idx])\n",
    "            max_positive_counts -= 1\n",
    "\n",
    "    random.seed()\n",
    "\n",
    "    while max_negative_counts > 0:\n",
    "        rand_num = random.randint(0,len(negX)-1)\n",
    "        finaltrnX.append(negX[rand_num])\n",
    "        finaltrnY.append(negY[rand_num])\n",
    "        max_negative_counts -= 1\n",
    "\n",
    "    while max_positive_counts > 0:\n",
    "        rand_num = random.randint(0,len(posX)-1)\n",
    "        finaltrnX.append(posX[rand_num])\n",
    "        finaltrnY.append(posY[rand_num])\n",
    "        max_positive_counts -= 1\n",
    "    \n",
    "    return finaltrnX, finaltrnY\n",
    "    "
   ]
  },
  {
   "cell_type": "markdown",
   "metadata": {},
   "source": [
    "# UnderSample Naive Bayes"
   ]
  },
  {
   "cell_type": "code",
   "execution_count": 5,
   "metadata": {},
   "outputs": [],
   "source": [
    "original_data = copy.deepcopy(data)\n",
    "y: np.ndarray = original_data.pop(target).values\n",
    "X: np.ndarray = original_data.values\n",
    "labels = pd.unique(y)"
   ]
  },
  {
   "cell_type": "markdown",
   "metadata": {},
   "source": [
    "## Multinomial"
   ]
  },
  {
   "cell_type": "code",
   "execution_count": 10,
   "metadata": {
    "scrolled": true
   },
   "outputs": [
    {
     "name": "stdout",
     "output_type": "stream",
     "text": [
      "{'test_accuracy': 0.652, 'test_precision': 0.7393548387096774, 'test_recall': 0.7514754098360655}\n"
     ]
    }
   ],
   "source": [
    "clf = MultinomialNB()\n",
    "avg_scores = {'test_accuracy':0, 'test_precision':0, 'test_recall':0}\n",
    "\n",
    "total=[0,0,0,0]\n",
    "for ix in range(100):\n",
    "    trnX, tstX, trnY, tstY = train_test_split(X, y, train_size=0.7, stratify=y)\n",
    "    undertrnX, undertrnY = balancing(trnX,trnY,1,0)\n",
    "    clf.fit(undertrnX, undertrnY)\n",
    "    prd_trn = clf.predict(undertrnX)\n",
    "    prd_tst = clf.predict(tstX)\n",
    "    cnf_mtx_tst = metrics.confusion_matrix(tstY, prd_tst, labels)\n",
    "    tn, fp, fn, tp = cnf_mtx_tst.ravel()\n",
    "    total[0]+=tp\n",
    "    total[1]+=tn\n",
    "    total[2]+=fp\n",
    "    total[3]+=fn\n",
    "\n",
    "\n",
    "avg_scores['test_accuracy'] = (total[0]+total[1])/(total[0]+total[1]+total[2]+total[3])\n",
    "avg_scores['test_precision'] = total[0]/(total[0]+total[2])\n",
    "avg_scores['test_recall'] = total[0]/(total[0]+total[3])\n",
    "\n",
    "print(avg_scores)"
   ]
  },
  {
   "cell_type": "markdown",
   "metadata": {},
   "source": [
    "## Gaussian"
   ]
  },
  {
   "cell_type": "code",
   "execution_count": 11,
   "metadata": {
    "scrolled": true
   },
   "outputs": [
    {
     "name": "stdout",
     "output_type": "stream",
     "text": [
      "{'test_accuracy': 0.7996666666666666, 'test_precision': 0.8574280485776077, 'test_recall': 0.8449180327868853}\n"
     ]
    }
   ],
   "source": [
    "clf = GaussianNB()\n",
    "avg_scores = {'test_accuracy':0, 'test_precision':0, 'test_recall':0}\n",
    "\n",
    "total=[0,0,0,0]\n",
    "for ix in range(100):\n",
    "    trnX, tstX, trnY, tstY = train_test_split(X, y, train_size=0.7, stratify=y)\n",
    "    undertrnX, undertrnY = balancing(trnX,trnY,1,0)\n",
    "    clf.fit(undertrnX, undertrnY)\n",
    "    prd_trn = clf.predict(undertrnX)\n",
    "    prd_tst = clf.predict(tstX)\n",
    "    cnf_mtx_tst = metrics.confusion_matrix(tstY, prd_tst, labels)\n",
    "    tn, fp, fn, tp = cnf_mtx_tst.ravel()\n",
    "    total[0]+=tp\n",
    "    total[1]+=tn\n",
    "    total[2]+=fp\n",
    "    total[3]+=fn\n",
    "\n",
    "\n",
    "avg_scores['test_accuracy'] = (total[0]+total[1])/(total[0]+total[1]+total[2]+total[3])\n",
    "avg_scores['test_precision'] = total[0]/(total[0]+total[2])\n",
    "avg_scores['test_recall'] = total[0]/(total[0]+total[3])\n",
    "\n",
    "print(avg_scores)"
   ]
  },
  {
   "cell_type": "markdown",
   "metadata": {},
   "source": [
    "## Bernoulli"
   ]
  },
  {
   "cell_type": "code",
   "execution_count": 12,
   "metadata": {
    "scrolled": true
   },
   "outputs": [
    {
     "name": "stdout",
     "output_type": "stream",
     "text": [
      "{'test_accuracy': 0.494, 'test_precision': 0.6666666666666666, 'test_recall': 0.5068852459016393}\n"
     ]
    }
   ],
   "source": [
    "clf = BernoulliNB()\n",
    "avg_scores = {'test_accuracy':0, 'test_precision':0, 'test_recall':0}\n",
    "\n",
    "total=[0,0,0,0]\n",
    "for ix in range(100):\n",
    "    trnX, tstX, trnY, tstY = train_test_split(X, y, train_size=0.7, stratify=y)\n",
    "    undertrnX, undertrnY = balancing(trnX,trnY,1,0)\n",
    "    clf.fit(undertrnX, undertrnY)\n",
    "    prd_trn = clf.predict(undertrnX)\n",
    "    prd_tst = clf.predict(tstX)\n",
    "    cnf_mtx_tst = metrics.confusion_matrix(tstY, prd_tst, labels)\n",
    "    tn, fp, fn, tp = cnf_mtx_tst.ravel()\n",
    "    total[0]+=tp\n",
    "    total[1]+=tn\n",
    "    total[2]+=fp\n",
    "    total[3]+=fn\n",
    "\n",
    "\n",
    "avg_scores['test_accuracy'] = (total[0]+total[1])/(total[0]+total[1]+total[2]+total[3])\n",
    "avg_scores['test_precision'] = total[0]/(total[0]+total[2])\n",
    "avg_scores['test_recall'] = total[0]/(total[0]+total[3])\n",
    "\n",
    "print(avg_scores)"
   ]
  },
  {
   "cell_type": "markdown",
   "metadata": {},
   "source": [
    "# OverSample Naive Bayes"
   ]
  },
  {
   "cell_type": "markdown",
   "metadata": {},
   "source": [
    "## Multinomial"
   ]
  },
  {
   "cell_type": "code",
   "execution_count": 13,
   "metadata": {
    "scrolled": true
   },
   "outputs": [
    {
     "name": "stdout",
     "output_type": "stream",
     "text": [
      "{'test_accuracy': 0.652, 'test_precision': 0.734143262858946, 'test_recall': 0.7627868852459017}\n"
     ]
    }
   ],
   "source": [
    "clf = MultinomialNB()\n",
    "avg_scores = {'test_accuracy':0, 'test_precision':0, 'test_recall':0}\n",
    "\n",
    "total=[0,0,0,0]\n",
    "for ix in range(100):\n",
    "    trnX, tstX, trnY, tstY = train_test_split(X, y, train_size=0.7, stratify=y)\n",
    "    overtrnX, overtrnY = balancing(trnX, trnY, 0, 1)\n",
    "    clf.fit(overtrnX, overtrnY)\n",
    "    prd_trn = clf.predict(overtrnX)\n",
    "    prd_tst = clf.predict(tstX)\n",
    "    cnf_mtx_tst = metrics.confusion_matrix(tstY, prd_tst, labels)\n",
    "    tn, fp, fn, tp = cnf_mtx_tst.ravel()\n",
    "    total[0]+=tp\n",
    "    total[1]+=tn\n",
    "    total[2]+=fp\n",
    "    total[3]+=fn\n",
    "\n",
    "\n",
    "avg_scores['test_accuracy'] = (total[0]+total[1])/(total[0]+total[1]+total[2]+total[3])\n",
    "avg_scores['test_precision'] = total[0]/(total[0]+total[2])\n",
    "avg_scores['test_recall'] = total[0]/(total[0]+total[3])\n",
    "\n",
    "print(avg_scores)"
   ]
  },
  {
   "cell_type": "markdown",
   "metadata": {},
   "source": [
    "## Gaussian"
   ]
  },
  {
   "cell_type": "code",
   "execution_count": 14,
   "metadata": {
    "scrolled": true
   },
   "outputs": [
    {
     "name": "stdout",
     "output_type": "stream",
     "text": [
      "{'test_accuracy': 0.8077777777777778, 'test_precision': 0.8589027595269383, 'test_recall': 0.8572131147540983}\n"
     ]
    }
   ],
   "source": [
    "clf = GaussianNB()\n",
    "avg_scores = {'test_accuracy':0, 'test_precision':0, 'test_recall':0}\n",
    "\n",
    "total=[0,0,0,0]\n",
    "for ix in range(100):\n",
    "    trnX, tstX, trnY, tstY = train_test_split(X, y, train_size=0.7, stratify=y)\n",
    "    overtrnX, overtrnY = balancing(trnX, trnY, 0, 1)\n",
    "    clf.fit(overtrnX, overtrnY)\n",
    "    prd_trn = clf.predict(overtrnX)\n",
    "    prd_tst = clf.predict(tstX)\n",
    "    cnf_mtx_tst = metrics.confusion_matrix(tstY, prd_tst, labels)\n",
    "    tn, fp, fn, tp = cnf_mtx_tst.ravel()\n",
    "    total[0]+=tp\n",
    "    total[1]+=tn\n",
    "    total[2]+=fp\n",
    "    total[3]+=fn\n",
    "\n",
    "\n",
    "avg_scores['test_accuracy'] = (total[0]+total[1])/(total[0]+total[1]+total[2]+total[3])\n",
    "avg_scores['test_precision'] = total[0]/(total[0]+total[2])\n",
    "avg_scores['test_recall'] = total[0]/(total[0]+total[3])\n",
    "\n",
    "print(avg_scores)"
   ]
  },
  {
   "cell_type": "markdown",
   "metadata": {},
   "source": [
    "## Bernoulli"
   ]
  },
  {
   "cell_type": "code",
   "execution_count": 15,
   "metadata": {
    "scrolled": true
   },
   "outputs": [
    {
     "name": "stdout",
     "output_type": "stream",
     "text": [
      "{'test_accuracy': 0.49966666666666665, 'test_precision': 0.6601805416248746, 'test_recall': 0.5395081967213115}\n"
     ]
    }
   ],
   "source": [
    "clf = BernoulliNB()\n",
    "avg_scores = {'test_accuracy':0, 'test_precision':0, 'test_recall':0}\n",
    "\n",
    "total=[0,0,0,0]\n",
    "for ix in range(100):\n",
    "    trnX, tstX, trnY, tstY = train_test_split(X, y, train_size=0.7, stratify=y)\n",
    "    overtrnX, overtrnY = balancing(trnX, trnY, 0, 1)\n",
    "    clf.fit(overtrnX, overtrnY)\n",
    "    prd_trn = clf.predict(overtrnX)\n",
    "    prd_tst = clf.predict(tstX)\n",
    "    cnf_mtx_tst = metrics.confusion_matrix(tstY, prd_tst, labels)\n",
    "    tn, fp, fn, tp = cnf_mtx_tst.ravel()\n",
    "    total[0]+=tp\n",
    "    total[1]+=tn\n",
    "    total[2]+=fp\n",
    "    total[3]+=fn\n",
    "\n",
    "\n",
    "avg_scores['test_accuracy'] = (total[0]+total[1])/(total[0]+total[1]+total[2]+total[3])\n",
    "avg_scores['test_precision'] = total[0]/(total[0]+total[2])\n",
    "avg_scores['test_recall'] = total[0]/(total[0]+total[3])\n",
    "\n",
    "print(avg_scores)"
   ]
  },
  {
   "cell_type": "markdown",
   "metadata": {},
   "source": [
    "# SMOTE Naive Bayes"
   ]
  },
  {
   "cell_type": "code",
   "execution_count": 16,
   "metadata": {
    "scrolled": true
   },
   "outputs": [],
   "source": [
    "from imblearn.over_sampling import SMOTE\n",
    "smote = SMOTE(sampling_strategy='minority', random_state=42)"
   ]
  },
  {
   "cell_type": "markdown",
   "metadata": {},
   "source": [
    "## Multinomial"
   ]
  },
  {
   "cell_type": "code",
   "execution_count": 17,
   "metadata": {
    "scrolled": true
   },
   "outputs": [
    {
     "name": "stdout",
     "output_type": "stream",
     "text": [
      "{'test_accuracy': 0.6593333333333333, 'test_precision': 0.7451519069166128, 'test_recall': 0.7559016393442622}\n"
     ]
    }
   ],
   "source": [
    "clf = MultinomialNB()\n",
    "avg_scores = {'test_accuracy':0, 'test_precision':0, 'test_recall':0}\n",
    "\n",
    "total=[0,0,0,0]\n",
    "for ix in range(100):\n",
    "    trnX, tstX, trnY, tstY = train_test_split(X, y, train_size=0.7, stratify=y)\n",
    "    smote_X, smote_y = smote.fit_sample(trnX, trnY)\n",
    "    clf.fit(smote_X, smote_y)\n",
    "    prd_trn = clf.predict(smote_X)\n",
    "    prd_tst = clf.predict(tstX)\n",
    "    cnf_mtx_tst = metrics.confusion_matrix(tstY, prd_tst, labels)\n",
    "    tn, fp, fn, tp = cnf_mtx_tst.ravel()\n",
    "    total[0]+=tp\n",
    "    total[1]+=tn\n",
    "    total[2]+=fp\n",
    "    total[3]+=fn\n",
    "\n",
    "\n",
    "avg_scores['test_accuracy'] = (total[0]+total[1])/(total[0]+total[1]+total[2]+total[3])\n",
    "avg_scores['test_precision'] = total[0]/(total[0]+total[2])\n",
    "avg_scores['test_recall'] = total[0]/(total[0]+total[3])\n",
    "\n",
    "print(avg_scores)"
   ]
  },
  {
   "cell_type": "markdown",
   "metadata": {},
   "source": [
    "## Gaussian"
   ]
  },
  {
   "cell_type": "code",
   "execution_count": 18,
   "metadata": {
    "scrolled": true
   },
   "outputs": [
    {
     "name": "stdout",
     "output_type": "stream",
     "text": [
      "{'test_accuracy': 0.789, 'test_precision': 0.8688323090430202, 'test_recall': 0.8111475409836065}\n"
     ]
    }
   ],
   "source": [
    "clf = GaussianNB()\n",
    "avg_scores = {'test_accuracy':0, 'test_precision':0, 'test_recall':0}\n",
    "\n",
    "total=[0,0,0,0]\n",
    "for ix in range(100):\n",
    "    trnX, tstX, trnY, tstY = train_test_split(X, y, train_size=0.7, stratify=y)\n",
    "    smote_X, smote_y = smote.fit_sample(trnX, trnY)\n",
    "    clf.fit(smote_X, smote_y)\n",
    "    prd_trn = clf.predict(smote_X)\n",
    "    prd_tst = clf.predict(tstX)\n",
    "    cnf_mtx_tst = metrics.confusion_matrix(tstY, prd_tst, labels)\n",
    "    tn, fp, fn, tp = cnf_mtx_tst.ravel()\n",
    "    total[0]+=tp\n",
    "    total[1]+=tn\n",
    "    total[2]+=fp\n",
    "    total[3]+=fn\n",
    "\n",
    "\n",
    "avg_scores['test_accuracy'] = (total[0]+total[1])/(total[0]+total[1]+total[2]+total[3])\n",
    "avg_scores['test_precision'] = total[0]/(total[0]+total[2])\n",
    "avg_scores['test_recall'] = total[0]/(total[0]+total[3])\n",
    "\n",
    "print(avg_scores)"
   ]
  },
  {
   "cell_type": "markdown",
   "metadata": {},
   "source": [
    "## Bernoulli"
   ]
  },
  {
   "cell_type": "code",
   "execution_count": 19,
   "metadata": {
    "scrolled": true
   },
   "outputs": [
    {
     "name": "stdout",
     "output_type": "stream",
     "text": [
      "{'test_accuracy': 0.5524444444444444, 'test_precision': 0.6832331093031482, 'test_recall': 0.6332786885245901}\n"
     ]
    }
   ],
   "source": [
    "clf = BernoulliNB()\n",
    "avg_scores = {'test_accuracy':0, 'test_precision':0, 'test_recall':0}\n",
    "\n",
    "total=[0,0,0,0]\n",
    "for ix in range(100):\n",
    "    trnX, tstX, trnY, tstY = train_test_split(X, y, train_size=0.7, stratify=y)\n",
    "    smote_X, smote_y = smote.fit_sample(trnX, trnY)\n",
    "    clf.fit(smote_X, smote_y)\n",
    "    prd_trn = clf.predict(smote_X)\n",
    "    prd_tst = clf.predict(tstX)\n",
    "    cnf_mtx_tst = metrics.confusion_matrix(tstY, prd_tst, labels)\n",
    "    tn, fp, fn, tp = cnf_mtx_tst.ravel()\n",
    "    total[0]+=tp\n",
    "    total[1]+=tn\n",
    "    total[2]+=fp\n",
    "    total[3]+=fn\n",
    "\n",
    "\n",
    "avg_scores['test_accuracy'] = (total[0]+total[1])/(total[0]+total[1]+total[2]+total[3])\n",
    "avg_scores['test_precision'] = total[0]/(total[0]+total[2])\n",
    "avg_scores['test_recall'] = total[0]/(total[0]+total[3])\n",
    "\n",
    "print(avg_scores)"
   ]
  },
  {
   "cell_type": "markdown",
   "metadata": {},
   "source": [
    "# Combining OverSample and UnderSample to find the best accuracy"
   ]
  },
  {
   "cell_type": "markdown",
   "metadata": {},
   "source": [
    "## Multinomial"
   ]
  },
  {
   "cell_type": "code",
   "execution_count": 43,
   "metadata": {},
   "outputs": [
    {
     "name": "stdout",
     "output_type": "stream",
     "text": [
      "0.8 0.30000000000000004\n",
      "{'test_accuracy': 0.6723333333333333, 'test_precision': 0.7604562737642585, 'test_recall': 0.7540983606557377}\n"
     ]
    }
   ],
   "source": [
    "undersample_range = [x*0.1 for x in range(11)]\n",
    "oversample_range = [x*0.1 for x in range(11)]\n",
    "clf = MultinomialNB()\n",
    "best_acc = 0\n",
    "under_fact = 0\n",
    "over_fact = 0\n",
    "for undersample in undersample_range:\n",
    "    for oversample in oversample_range:\n",
    "        avg_scores = {'test_accuracy':0, 'test_precision':0, 'test_recall':0}\n",
    "\n",
    "        total=[0,0,0,0]\n",
    "        for ix in range(100):\n",
    "            trnX, tstX, trnY, tstY = train_test_split(X, y, train_size=0.7, stratify=y)\n",
    "            balanceX, balanceY = balancing(trnX, trnY, undersample, oversample)\n",
    "            clf.fit(balanceX, balanceY)\n",
    "            prd_trn = clf.predict(balanceX)\n",
    "            prd_tst = clf.predict(tstX)\n",
    "            cnf_mtx_tst = metrics.confusion_matrix(tstY, prd_tst, labels)\n",
    "            tn, fp, fn, tp = cnf_mtx_tst.ravel()\n",
    "            total[0]+=tp\n",
    "            total[1]+=tn\n",
    "            total[2]+=fp\n",
    "            total[3]+=fn\n",
    "\n",
    "\n",
    "        avg_scores['test_accuracy'] = (total[0]+total[1])/(total[0]+total[1]+total[2]+total[3])\n",
    "        avg_scores['test_precision'] = total[0]/(total[0]+total[2])\n",
    "        avg_scores['test_recall'] = total[0]/(total[0]+total[3])\n",
    "\n",
    "        if avg_scores['test_accuracy'] > best_acc:\n",
    "            under_fact = undersample\n",
    "            over_fact = oversample\n",
    "            best_avg_scores = avg_scores\n",
    "            best_acc = avg_scores['test_accuracy']\n",
    "            \n",
    "print(under_fact, over_fact)\n",
    "print(best_avg_scores)"
   ]
  },
  {
   "cell_type": "markdown",
   "metadata": {},
   "source": [
    "## Gaussian"
   ]
  },
  {
   "cell_type": "code",
   "execution_count": 44,
   "metadata": {},
   "outputs": [
    {
     "name": "stdout",
     "output_type": "stream",
     "text": [
      "0.4 0.30000000000000004\n",
      "{'test_accuracy': 0.821, 'test_precision': 0.8398183194549583, 'test_recall': 0.9093442622950819}\n"
     ]
    }
   ],
   "source": [
    "undersample_range = [x*0.1 for x in range(11)]\n",
    "oversample_range = [x*0.1 for x in range(11)]\n",
    "clf = GaussianNB()\n",
    "best_acc = 0\n",
    "under_fact = 0\n",
    "over_fact = 0\n",
    "for undersample in undersample_range:\n",
    "    for oversample in oversample_range:\n",
    "        avg_scores = {'test_accuracy':0, 'test_precision':0, 'test_recall':0}\n",
    "\n",
    "        total=[0,0,0,0]\n",
    "        for ix in range(100):\n",
    "            trnX, tstX, trnY, tstY = train_test_split(X, y, train_size=0.7, stratify=y)\n",
    "            balanceX, balanceY = balancing(trnX, trnY, undersample, oversample)\n",
    "            clf.fit(balanceX, balanceY)\n",
    "            prd_trn = clf.predict(balanceX)\n",
    "            prd_tst = clf.predict(tstX)\n",
    "            cnf_mtx_tst = metrics.confusion_matrix(tstY, prd_tst, labels)\n",
    "            tn, fp, fn, tp = cnf_mtx_tst.ravel()\n",
    "            total[0]+=tp\n",
    "            total[1]+=tn\n",
    "            total[2]+=fp\n",
    "            total[3]+=fn\n",
    "\n",
    "\n",
    "        avg_scores['test_accuracy'] = (total[0]+total[1])/(total[0]+total[1]+total[2]+total[3])\n",
    "        avg_scores['test_precision'] = total[0]/(total[0]+total[2])\n",
    "        avg_scores['test_recall'] = total[0]/(total[0]+total[3])\n",
    "\n",
    "        if avg_scores['test_accuracy'] > best_acc:\n",
    "            under_fact = undersample\n",
    "            over_fact = oversample\n",
    "            best_avg_scores = avg_scores\n",
    "            best_acc = avg_scores['test_accuracy']\n",
    "            \n",
    "print(under_fact, over_fact)\n",
    "print(best_avg_scores)"
   ]
  },
  {
   "cell_type": "markdown",
   "metadata": {},
   "source": [
    "## Bernoulli"
   ]
  },
  {
   "cell_type": "code",
   "execution_count": 45,
   "metadata": {},
   "outputs": [
    {
     "name": "stdout",
     "output_type": "stream",
     "text": [
      "0.0 0.0\n",
      "{'test_accuracy': 0.6771111111111111, 'test_precision': 0.6778792604143462, 'test_recall': 0.9977049180327869}\n"
     ]
    }
   ],
   "source": [
    "undersample_range = [x*0.1 for x in range(11)]\n",
    "oversample_range = [x*0.1 for x in range(11)]\n",
    "best_acc = 0\n",
    "under_fact = 0\n",
    "over_fact = 0\n",
    "clf = BernoulliNB()\n",
    "for undersample in undersample_range:\n",
    "    for oversample in oversample_range:\n",
    "        avg_scores = {'test_accuracy':0, 'test_precision':0, 'test_recall':0}\n",
    "\n",
    "        total=[0,0,0,0]\n",
    "        for ix in range(100):\n",
    "            trnX, tstX, trnY, tstY = train_test_split(X, y, train_size=0.7, stratify=y)\n",
    "            balanceX, balanceY = balancing(trnX, trnY, undersample, oversample)\n",
    "            clf.fit(balanceX, balanceY)\n",
    "            prd_trn = clf.predict(balanceX)\n",
    "            prd_tst = clf.predict(tstX)\n",
    "            cnf_mtx_tst = metrics.confusion_matrix(tstY, prd_tst, labels)\n",
    "            tn, fp, fn, tp = cnf_mtx_tst.ravel()\n",
    "            total[0]+=tp\n",
    "            total[1]+=tn\n",
    "            total[2]+=fp\n",
    "            total[3]+=fn\n",
    "\n",
    "\n",
    "        avg_scores['test_accuracy'] = (total[0]+total[1])/(total[0]+total[1]+total[2]+total[3])\n",
    "        avg_scores['test_precision'] = total[0]/(total[0]+total[2])\n",
    "        avg_scores['test_recall'] = total[0]/(total[0]+total[3])\n",
    "\n",
    "        if avg_scores['test_accuracy'] > best_acc:\n",
    "            under_fact = undersample\n",
    "            over_fact = oversample\n",
    "            best_avg_scores = avg_scores\n",
    "            best_acc = avg_scores['test_accuracy']\n",
    "            \n",
    "print(under_fact, over_fact)\n",
    "print(best_avg_scores)"
   ]
  },
  {
   "cell_type": "markdown",
   "metadata": {},
   "source": [
    "# Scaling"
   ]
  },
  {
   "cell_type": "code",
   "execution_count": 6,
   "metadata": {},
   "outputs": [
    {
     "data": {
      "image/png": "[encoded data removed]",
      "text/plain": [
       "<Figure size 4500x1500 with 3 Axes>"
      ]
     },
     "metadata": {
      "needs_background": "dark"
     },
     "output_type": "display_data"
    }
   ],
   "source": [
    "from sklearn.preprocessing import StandardScaler, MinMaxScaler\n",
    "data.pop(target)\n",
    "transf = StandardScaler(with_mean=True, with_std=True, copy=True).fit(data)\n",
    "df_nr = pd.DataFrame(transf.transform(data), columns= data.columns)\n",
    "norm_data_zscore = df_nr\n",
    "norm_data_zscore.describe(include='all')\n",
    "\n",
    "transf = MinMaxScaler(feature_range=(0, 1), copy=True).fit(df_nr)\n",
    "df_nr = pd.DataFrame(transf.transform(df_nr), columns= df_nr.columns)\n",
    "norm_data_minmax = df_nr\n",
    "norm_data_minmax.describe(include='all')\n",
    "\n",
    "import matplotlib.pyplot as plt\n",
    "fig, axs = plt.subplots(1, 3, figsize=(30,10),squeeze=False )\n",
    "axs[0, 0].set_title('Original data')\n",
    "data.boxplot(ax=axs[0, 0])\n",
    "axs[0, 1].set_title('Z-score normalization')\n",
    "norm_data_zscore.boxplot(ax=axs[0, 1])\n",
    "axs[0, 2].set_title('MinMax normalization')\n",
    "# axs[0, 2].xticks(rotation=90)\n",
    "norm_data_minmax.boxplot(ax=axs[0, 2])\n",
    "# fig.tight_layout()\n",
    "for i in range(3):\n",
    "    plt.setp(axs[0, i].xaxis.get_majorticklabels(), rotation=90)\n",
    "    \n",
    "plt.show()"
   ]
  },
  {
   "cell_type": "code",
   "execution_count": 46,
   "metadata": {},
   "outputs": [],
   "source": [
    "Xz: np.ndarray = norm_data_zscore.values\n",
    "XmM : np.ndarray = norm_data_minmax.values"
   ]
  },
  {
   "cell_type": "markdown",
   "metadata": {},
   "source": [
    "## Multinomial"
   ]
  },
  {
   "cell_type": "code",
   "execution_count": 47,
   "metadata": {},
   "outputs": [
    {
     "name": "stdout",
     "output_type": "stream",
     "text": [
      "0.5 0.6000000000000001\n",
      "{'test_accuracy': 0.7526666666666667, 'test_precision': 0.7861152141802068, 'test_recall': 0.8724590163934426}\n"
     ]
    }
   ],
   "source": [
    "#MultinomialNB cannot compute negative values.\n",
    "undersample_range = [x*0.1 for x in range(11)]\n",
    "oversample_range = [x*0.1 for x in range(11)]\n",
    "clf = MultinomialNB()\n",
    "best_acc = 0\n",
    "under_fact = 0\n",
    "over_fact = 0\n",
    "for undersample in undersample_range:\n",
    "    for oversample in oversample_range:\n",
    "        avg_scores = {'test_accuracy':0, 'test_precision':0, 'test_recall':0}\n",
    "\n",
    "        total=[0,0,0,0]\n",
    "        for ix in range(100):\n",
    "            trnX, tstX, trnY, tstY = train_test_split(XmM, y, train_size=0.7, stratify=y)\n",
    "            balanceX, balanceY = balancing(trnX, trnY, undersample, oversample)\n",
    "            clf.fit(balanceX, balanceY)\n",
    "            prd_trn = clf.predict(balanceX)\n",
    "            prd_tst = clf.predict(tstX)\n",
    "            cnf_mtx_tst = metrics.confusion_matrix(tstY, prd_tst, labels)\n",
    "            tn, fp, fn, tp = cnf_mtx_tst.ravel()\n",
    "            total[0]+=tp\n",
    "            total[1]+=tn\n",
    "            total[2]+=fp\n",
    "            total[3]+=fn\n",
    "\n",
    "\n",
    "        avg_scores['test_accuracy'] = (total[0]+total[1])/(total[0]+total[1]+total[2]+total[3])\n",
    "        avg_scores['test_precision'] = total[0]/(total[0]+total[2])\n",
    "        avg_scores['test_recall'] = total[0]/(total[0]+total[3])\n",
    "\n",
    "        if avg_scores['test_accuracy'] > best_acc:\n",
    "            under_fact = undersample\n",
    "            over_fact = oversample\n",
    "            best_avg_scores = avg_scores\n",
    "            best_acc = avg_scores['test_accuracy']\n",
    "            \n",
    "print(under_fact, over_fact)\n",
    "print(best_avg_scores)"
   ]
  },
  {
   "cell_type": "markdown",
   "metadata": {},
   "source": [
    "## Gaussian"
   ]
  },
  {
   "cell_type": "code",
   "execution_count": 48,
   "metadata": {},
   "outputs": [
    {
     "name": "stdout",
     "output_type": "stream",
     "text": [
      "MinMax Normalization:  0.6000000000000001 1.0\n",
      "{'test_accuracy': 0.7971111111111111, 'test_precision': 0.8321417469692259, 'test_recall': 0.8777049180327869}\n"
     ]
    }
   ],
   "source": [
    "undersample_range = [x*0.1 for x in range(11)]\n",
    "oversample_range = [x*0.1 for x in range(11)]\n",
    "clf = GaussianNB()\n",
    "best_acc = 0\n",
    "under_fact = 0\n",
    "over_fact = 0\n",
    "for undersample in undersample_range:\n",
    "    for oversample in oversample_range:\n",
    "        avg_scores = {'test_accuracy':0, 'test_precision':0, 'test_recall':0}\n",
    "\n",
    "        total=[0,0,0,0]\n",
    "        for ix in range(100):\n",
    "            trnX, tstX, trnY, tstY = train_test_split(XmM, y, train_size=0.7, stratify=y)\n",
    "            balanceX, balanceY = balancing(trnX, trnY, undersample, oversample)\n",
    "            clf.fit(balanceX, balanceY)\n",
    "            prd_trn = clf.predict(balanceX)\n",
    "            prd_tst = clf.predict(tstX)\n",
    "            cnf_mtx_tst = metrics.confusion_matrix(tstY, prd_tst, labels)\n",
    "            tn, fp, fn, tp = cnf_mtx_tst.ravel()\n",
    "            total[0]+=tp\n",
    "            total[1]+=tn\n",
    "            total[2]+=fp\n",
    "            total[3]+=fn\n",
    "\n",
    "\n",
    "        avg_scores['test_accuracy'] = (total[0]+total[1])/(total[0]+total[1]+total[2]+total[3])\n",
    "        avg_scores['test_precision'] = total[0]/(total[0]+total[2])\n",
    "        avg_scores['test_recall'] = total[0]/(total[0]+total[3])\n",
    "\n",
    "        if avg_scores['test_accuracy'] > best_acc:\n",
    "            under_fact = undersample\n",
    "            over_fact = oversample\n",
    "            best_avg_scores = avg_scores\n",
    "            best_acc = avg_scores['test_accuracy']\n",
    "            \n",
    "print(\"MinMax Normalization: \",under_fact, over_fact)\n",
    "print(best_avg_scores)"
   ]
  },
  {
   "cell_type": "code",
   "execution_count": 49,
   "metadata": {},
   "outputs": [
    {
     "name": "stdout",
     "output_type": "stream",
     "text": [
      "Z-score Normalization:  0.5 1.0\n",
      "{'test_accuracy': 0.7971111111111111, 'test_precision': 0.8331774243841596, 'test_recall': 0.8760655737704918}\n"
     ]
    }
   ],
   "source": [
    "undersample_range = [x*0.1 for x in range(11)]\n",
    "oversample_range = [x*0.1 for x in range(11)]\n",
    "clf = GaussianNB()\n",
    "best_acc = 0\n",
    "under_fact = 0\n",
    "over_fact = 0\n",
    "for undersample in undersample_range:\n",
    "    for oversample in oversample_range:\n",
    "        avg_scores = {'test_accuracy':0, 'test_precision':0, 'test_recall':0}\n",
    "\n",
    "        total=[0,0,0,0]\n",
    "        for ix in range(100):\n",
    "            trnX, tstX, trnY, tstY = train_test_split(Xz, y, train_size=0.7, stratify=y)\n",
    "            balanceX, balanceY = balancing(trnX, trnY, undersample, oversample)\n",
    "            clf.fit(balanceX, balanceY)\n",
    "            prd_trn = clf.predict(balanceX)\n",
    "            prd_tst = clf.predict(tstX)\n",
    "            cnf_mtx_tst = metrics.confusion_matrix(tstY, prd_tst, labels)\n",
    "            tn, fp, fn, tp = cnf_mtx_tst.ravel()\n",
    "            total[0]+=tp\n",
    "            total[1]+=tn\n",
    "            total[2]+=fp\n",
    "            total[3]+=fn\n",
    "\n",
    "\n",
    "        avg_scores['test_accuracy'] = (total[0]+total[1])/(total[0]+total[1]+total[2]+total[3])\n",
    "        avg_scores['test_precision'] = total[0]/(total[0]+total[2])\n",
    "        avg_scores['test_recall'] = total[0]/(total[0]+total[3])\n",
    "\n",
    "        if avg_scores['test_accuracy'] > best_acc:\n",
    "            under_fact = undersample\n",
    "            over_fact = oversample\n",
    "            best_avg_scores = avg_scores\n",
    "            best_acc = avg_scores['test_accuracy']\n",
    "            \n",
    "print(\"Z-score Normalization: \",under_fact, over_fact)\n",
    "print(best_avg_scores)"
   ]
  },
  {
   "cell_type": "markdown",
   "metadata": {},
   "source": [
    "## Bernoulli"
   ]
  },
  {
   "cell_type": "code",
   "execution_count": 50,
   "metadata": {},
   "outputs": [
    {
     "name": "stdout",
     "output_type": "stream",
     "text": [
      "MinMax Normalization:  0.1 0.0\n",
      "{'test_accuracy': 0.6736666666666666, 'test_precision': 0.6776367516567449, 'test_recall': 0.9890163934426229}\n"
     ]
    }
   ],
   "source": [
    "undersample_range = [x*0.1 for x in range(11)]\n",
    "oversample_range = [x*0.1 for x in range(11)]\n",
    "clf = BernoulliNB()\n",
    "best_acc = 0\n",
    "under_fact = 0\n",
    "over_fact = 0\n",
    "for undersample in undersample_range:\n",
    "    for oversample in oversample_range:\n",
    "        avg_scores = {'test_accuracy':0, 'test_precision':0, 'test_recall':0}\n",
    "\n",
    "        total=[0,0,0,0]\n",
    "        for ix in range(100):\n",
    "            trnX, tstX, trnY, tstY = train_test_split(XmM, y, train_size=0.7, stratify=y)\n",
    "            balanceX, balanceY = balancing(trnX, trnY, undersample, oversample)\n",
    "            clf.fit(balanceX, balanceY)\n",
    "            prd_trn = clf.predict(balanceX)\n",
    "            prd_tst = clf.predict(tstX)\n",
    "            cnf_mtx_tst = metrics.confusion_matrix(tstY, prd_tst, labels)\n",
    "            tn, fp, fn, tp = cnf_mtx_tst.ravel()\n",
    "            total[0]+=tp\n",
    "            total[1]+=tn\n",
    "            total[2]+=fp\n",
    "            total[3]+=fn\n",
    "\n",
    "\n",
    "        avg_scores['test_accuracy'] = (total[0]+total[1])/(total[0]+total[1]+total[2]+total[3])\n",
    "        avg_scores['test_precision'] = total[0]/(total[0]+total[2])\n",
    "        avg_scores['test_recall'] = total[0]/(total[0]+total[3])\n",
    "\n",
    "        if avg_scores['test_accuracy'] > best_acc:\n",
    "            under_fact = undersample\n",
    "            over_fact = oversample\n",
    "            best_avg_scores = avg_scores\n",
    "            best_acc = avg_scores['test_accuracy']\n",
    "            \n",
    "print(\"MinMax Normalization: \",under_fact, over_fact)\n",
    "print(best_avg_scores)"
   ]
  },
  {
   "cell_type": "code",
   "execution_count": 51,
   "metadata": {},
   "outputs": [
    {
     "name": "stdout",
     "output_type": "stream",
     "text": [
      "Z-score Normalization:  0.5 0.0\n",
      "{'test_accuracy': 0.7485555555555555, 'test_precision': 0.8026502602934217, 'test_recall': 0.8340983606557377}\n"
     ]
    }
   ],
   "source": [
    "undersample_range = [x*0.1 for x in range(11)]\n",
    "oversample_range = [x*0.1 for x in range(11)]\n",
    "clf = BernoulliNB()\n",
    "best_acc = 0\n",
    "under_fact = 0\n",
    "over_fact = 0\n",
    "for undersample in undersample_range:\n",
    "    for oversample in oversample_range:\n",
    "        avg_scores = {'test_accuracy':0, 'test_precision':0, 'test_recall':0}\n",
    "\n",
    "        total=[0,0,0,0]\n",
    "        for ix in range(100):\n",
    "            trnX, tstX, trnY, tstY = train_test_split(Xz, y, train_size=0.7, stratify=y)\n",
    "            balanceX, balanceY = balancing(trnX, trnY, undersample, oversample)\n",
    "            clf.fit(balanceX, balanceY)\n",
    "            prd_trn = clf.predict(balanceX)\n",
    "            prd_tst = clf.predict(tstX)\n",
    "            cnf_mtx_tst = metrics.confusion_matrix(tstY, prd_tst, labels)\n",
    "            tn, fp, fn, tp = cnf_mtx_tst.ravel()\n",
    "            total[0]+=tp\n",
    "            total[1]+=tn\n",
    "            total[2]+=fp\n",
    "            total[3]+=fn\n",
    "\n",
    "\n",
    "        avg_scores['test_accuracy'] = (total[0]+total[1])/(total[0]+total[1]+total[2]+total[3])\n",
    "        avg_scores['test_precision'] = total[0]/(total[0]+total[2])\n",
    "        avg_scores['test_recall'] = total[0]/(total[0]+total[3])\n",
    "\n",
    "        if avg_scores['test_accuracy'] > best_acc:\n",
    "            under_fact = undersample\n",
    "            over_fact = oversample\n",
    "            best_avg_scores = avg_scores\n",
    "            best_acc = avg_scores['test_accuracy']\n",
    "            \n",
    "print(\"Z-score Normalization: \",under_fact, over_fact)\n",
    "print(best_avg_scores)"
   ]
  },
  {
   "cell_type": "markdown",
   "metadata": {},
   "source": [
    "# Scaling w/ outliers removal"
   ]
  },
  {
   "cell_type": "markdown",
   "metadata": {},
   "source": [
    "## Outliers Removal"
   ]
  },
  {
   "cell_type": "code",
   "execution_count": 7,
   "metadata": {},
   "outputs": [],
   "source": [
    "from numpy import percentile\n",
    "def remove_outliers(data,threshold):\n",
    "    data_rows = [0 for ix, row in data.iterrows()]\n",
    "    data_features = data.copy()\n",
    "    target = data_features.pop('DEATH_EVENT')\n",
    "    outliers_num = 0\n",
    "    rows_to_drop=set()\n",
    "    for var in data_features:\n",
    "        val_max = data_features[var].max()\n",
    "        val_min = data_features[var].min()\n",
    "    #     print(val_max)\n",
    "    #     print(val_min)\n",
    "        quartiles = percentile(data_features[var], [25, 50, 75])\n",
    "    #     print (quartiles)\n",
    "\n",
    "        iqr = quartiles[2] - quartiles[0]\n",
    "\n",
    "        lower_val_aceptable = quartiles[0] - 1.5*iqr\n",
    "        max_val_aceptable = quartiles[2] + 1.5*iqr\n",
    "\n",
    "    #     print (lower_val_aceptable)\n",
    "    #     print (max_val_aceptable)\n",
    "\n",
    "\n",
    "        if val_max > max_val_aceptable or val_min < lower_val_aceptable:\n",
    "            count=0\n",
    "            for ele in data_features[var]:\n",
    "                if ele > max_val_aceptable or ele < lower_val_aceptable:\n",
    "                    data_rows[count]+=1\n",
    "                    if data_rows[count] > threshold:\n",
    "                        outliers_num+=1\n",
    "                        rows_to_drop.add(count)\n",
    "                count+=1\n",
    "                \n",
    "    print(\"Threshold for outliers = \", threshold)\n",
    "    print(\"Outliers number = \",outliers_num)\n",
    "    clean_data = data_features.drop(rows_to_drop, axis=0)\n",
    "    clean_targets = target.drop(rows_to_drop, axis=0)\n",
    "    print(len(clean_data), \" || \", len(clean_targets))\n",
    "    return clean_data, clean_targets"
   ]
  },
  {
   "cell_type": "code",
   "execution_count": 10,
   "metadata": {},
   "outputs": [],
   "source": [
    "data: pd.DataFrame = pd.read_csv('datasets/heart_failure_clinical_records_dataset.csv')\n",
    "target = 'DEATH_EVENT'"
   ]
  },
  {
   "cell_type": "markdown",
   "metadata": {},
   "source": [
    "## Multinomial"
   ]
  },
  {
   "cell_type": "code",
   "execution_count": 59,
   "metadata": {},
   "outputs": [
    {
     "name": "stdout",
     "output_type": "stream",
     "text": [
      "Threshold for outliers =  0\n",
      "Outliers number =  85\n",
      "224  ||  224\n",
      "0.1 0.1\n",
      "{'test_accuracy': 0.7504411764705883, 'test_precision': 0.8808561236623068, 'test_recall': 0.7559183673469387}\n",
      "Threshold for outliers =  1\n",
      "Outliers number =  10\n",
      "289  ||  289\n",
      "0.0 0.6000000000000001\n",
      "{'test_accuracy': 0.6879310344827586, 'test_precision': 0.7804336691138808, 'test_recall': 0.7618333333333334}\n",
      "Threshold for outliers =  2\n",
      "Outliers number =  0\n",
      "299  ||  299\n",
      "0.0 0.4\n",
      "{'test_accuracy': 0.6715555555555556, 'test_precision': 0.7601787487586892, 'test_recall': 0.7529508196721312}\n"
     ]
    }
   ],
   "source": [
    "#MultinomialNB cannot compute negative values.\n",
    "best_acc = 0\n",
    "under_fact = 0\n",
    "over_fact = 0\n",
    "threshold_fact = 0\n",
    "for threshold in range(0,3):\n",
    "    \n",
    "    X_clean, y_clean = remove_outliers(data,threshold)\n",
    "    X: np.ndarray = X_clean.values\n",
    "    y: np.ndarray = y_clean.values\n",
    "    labels: np.ndarray = pd.unique(y)\n",
    "    \n",
    "    undersample_range = [x*0.1 for x in range(11)]\n",
    "    oversample_range = [x*0.1 for x in range(11)]\n",
    "    clf = MultinomialNB()\n",
    "    best_acc = 0\n",
    "    under_fact = 0\n",
    "    over_fact = 0\n",
    "    for undersample in undersample_range:\n",
    "        for oversample in oversample_range:\n",
    "            avg_scores = {'test_accuracy':0, 'test_precision':0, 'test_recall':0}\n",
    "\n",
    "            total=[0,0,0,0]\n",
    "            for ix in range(100):\n",
    "                trnX, tstX, trnY, tstY = train_test_split(X, y, train_size=0.7, stratify=y)\n",
    "                balanceX, balanceY = balancing(trnX, trnY, undersample, oversample)\n",
    "                clf.fit(balanceX, balanceY)\n",
    "                prd_trn = clf.predict(balanceX)\n",
    "                prd_tst = clf.predict(tstX)\n",
    "                cnf_mtx_tst = metrics.confusion_matrix(tstY, prd_tst, labels)\n",
    "                tn, fp, fn, tp = cnf_mtx_tst.ravel()\n",
    "                total[0]+=tp\n",
    "                total[1]+=tn\n",
    "                total[2]+=fp\n",
    "                total[3]+=fn\n",
    "\n",
    "\n",
    "            avg_scores['test_accuracy'] = (total[0]+total[1])/(total[0]+total[1]+total[2]+total[3])\n",
    "            avg_scores['test_precision'] = total[0]/(total[0]+total[2])\n",
    "            avg_scores['test_recall'] = total[0]/(total[0]+total[3])\n",
    "\n",
    "            if avg_scores['test_accuracy'] > best_acc:\n",
    "                under_fact = undersample\n",
    "                over_fact = oversample\n",
    "                best_avg_scores = avg_scores\n",
    "                best_acc = avg_scores['test_accuracy']\n",
    "            \n",
    "    print(under_fact, over_fact)\n",
    "    print(best_avg_scores)"
   ]
  },
  {
   "cell_type": "markdown",
   "metadata": {},
   "source": [
    "## Multinomial MinMax"
   ]
  },
  {
   "cell_type": "code",
   "execution_count": 63,
   "metadata": {},
   "outputs": [
    {
     "name": "stdout",
     "output_type": "stream",
     "text": [
      "Threshold for outliers =  0\n",
      "Outliers number =  85\n",
      "224  ||  224\n",
      "0.1 0.7000000000000001\n",
      "{'test_accuracy': 0.7883823529411764, 'test_precision': 0.8171156312992487, 'test_recall': 0.91}\n",
      "Threshold for outliers =  1\n",
      "Outliers number =  10\n",
      "289  ||  289\n",
      "0.30000000000000004 0.6000000000000001\n",
      "{'test_accuracy': 0.7604597701149425, 'test_precision': 0.7829479768786127, 'test_recall': 0.903}\n",
      "Threshold for outliers =  2\n",
      "Outliers number =  0\n",
      "299  ||  299\n",
      "0.4 0.7000000000000001\n",
      "{'test_accuracy': 0.7545555555555555, 'test_precision': 0.7921609851329028, 'test_recall': 0.8647540983606558}\n"
     ]
    }
   ],
   "source": [
    "#MultinomialNB cannot compute negative values.\n",
    "best_acc = 0\n",
    "under_fact = 0\n",
    "over_fact = 0\n",
    "threshold_fact = 0\n",
    "for threshold in range(0,3):\n",
    "    \n",
    "    X_clean, y_clean = remove_outliers(data,threshold)\n",
    "    transf = MinMaxScaler(feature_range=(0, 1), copy=True).fit(X_clean)\n",
    "    df_nr = pd.DataFrame(transf.transform(X_clean), columns= X_clean.columns)\n",
    "    norm_data_minmax = df_nr\n",
    "    norm_data_minmax.describe(include='all')\n",
    "    y: np.ndarray = y_clean.values\n",
    "    X: np.ndarray = norm_data_minmax.values\n",
    "    labels: np.ndarray = pd.unique(y)\n",
    "    \n",
    "    undersample_range = [x*0.1 for x in range(11)]\n",
    "    oversample_range = [x*0.1 for x in range(11)]\n",
    "    clf = MultinomialNB()\n",
    "    best_acc = 0\n",
    "    under_fact = 0\n",
    "    over_fact = 0\n",
    "    for undersample in undersample_range:\n",
    "        for oversample in oversample_range:\n",
    "            avg_scores = {'test_accuracy':0, 'test_precision':0, 'test_recall':0}\n",
    "\n",
    "            total=[0,0,0,0]\n",
    "            for ix in range(100):\n",
    "                trnX, tstX, trnY, tstY = train_test_split(X, y, train_size=0.7, stratify=y)\n",
    "                balanceX, balanceY = balancing(trnX, trnY, undersample, oversample)\n",
    "                clf.fit(balanceX, balanceY)\n",
    "                prd_trn = clf.predict(balanceX)\n",
    "                prd_tst = clf.predict(tstX)\n",
    "                cnf_mtx_tst = metrics.confusion_matrix(tstY, prd_tst, labels)\n",
    "                tn, fp, fn, tp = cnf_mtx_tst.ravel()\n",
    "                total[0]+=tp\n",
    "                total[1]+=tn\n",
    "                total[2]+=fp\n",
    "                total[3]+=fn\n",
    "\n",
    "\n",
    "            avg_scores['test_accuracy'] = (total[0]+total[1])/(total[0]+total[1]+total[2]+total[3])\n",
    "            avg_scores['test_precision'] = total[0]/(total[0]+total[2])\n",
    "            avg_scores['test_recall'] = total[0]/(total[0]+total[3])\n",
    "\n",
    "            if avg_scores['test_accuracy'] > best_acc:\n",
    "                under_fact = undersample\n",
    "                over_fact = oversample\n",
    "                best_avg_scores = avg_scores\n",
    "                best_acc = avg_scores['test_accuracy']\n",
    "            \n",
    "    print(under_fact, over_fact)\n",
    "    print(best_avg_scores)"
   ]
  },
  {
   "cell_type": "markdown",
   "metadata": {},
   "source": [
    "## Gaussian "
   ]
  },
  {
   "cell_type": "code",
   "execution_count": 61,
   "metadata": {},
   "outputs": [
    {
     "name": "stdout",
     "output_type": "stream",
     "text": [
      "Threshold for outliers =  0\n",
      "Outliers number =  85\n",
      "224  ||  224\n",
      "0.30000000000000004 0.0\n",
      "{'test_accuracy': 0.8472058823529411, 'test_precision': 0.8755106010503793, 'test_recall': 0.9185714285714286}\n",
      "Threshold for outliers =  1\n",
      "Outliers number =  10\n",
      "289  ||  289\n",
      "0.0 0.30000000000000004\n",
      "{'test_accuracy': 0.8302298850574713, 'test_precision': 0.8530835284933646, 'test_recall': 0.9106666666666666}\n",
      "Threshold for outliers =  2\n",
      "Outliers number =  0\n",
      "299  ||  299\n",
      "0.2 1.0\n",
      "{'test_accuracy': 0.8161111111111111, 'test_precision': 0.8680245073687697, 'test_recall': 0.859344262295082}\n"
     ]
    }
   ],
   "source": [
    "#MultinomialNB cannot compute negative values.\n",
    "best_acc = 0\n",
    "under_fact = 0\n",
    "over_fact = 0\n",
    "threshold_fact = 0\n",
    "for threshold in range(0,3):\n",
    "    \n",
    "    X_clean, y_clean = remove_outliers(data,threshold)\n",
    "    X: np.ndarray = X_clean.values\n",
    "    y: np.ndarray = y_clean.values\n",
    "    labels: np.ndarray = pd.unique(y)\n",
    "    \n",
    "    undersample_range = [x*0.1 for x in range(11)]\n",
    "    oversample_range = [x*0.1 for x in range(11)]\n",
    "    clf = GaussianNB()\n",
    "    best_acc = 0\n",
    "    under_fact = 0\n",
    "    over_fact = 0\n",
    "    for undersample in undersample_range:\n",
    "        for oversample in oversample_range:\n",
    "            avg_scores = {'test_accuracy':0, 'test_precision':0, 'test_recall':0}\n",
    "\n",
    "            total=[0,0,0,0]\n",
    "            for ix in range(100):\n",
    "                trnX, tstX, trnY, tstY = train_test_split(X, y, train_size=0.7, stratify=y)\n",
    "                balanceX, balanceY = balancing(trnX, trnY, undersample, oversample)\n",
    "                clf.fit(balanceX, balanceY)\n",
    "                prd_trn = clf.predict(balanceX)\n",
    "                prd_tst = clf.predict(tstX)\n",
    "                cnf_mtx_tst = metrics.confusion_matrix(tstY, prd_tst, labels)\n",
    "                tn, fp, fn, tp = cnf_mtx_tst.ravel()\n",
    "                total[0]+=tp\n",
    "                total[1]+=tn\n",
    "                total[2]+=fp\n",
    "                total[3]+=fn\n",
    "\n",
    "\n",
    "            avg_scores['test_accuracy'] = (total[0]+total[1])/(total[0]+total[1]+total[2]+total[3])\n",
    "            avg_scores['test_precision'] = total[0]/(total[0]+total[2])\n",
    "            avg_scores['test_recall'] = total[0]/(total[0]+total[3])\n",
    "\n",
    "            if avg_scores['test_accuracy'] > best_acc:\n",
    "                under_fact = undersample\n",
    "                over_fact = oversample\n",
    "                best_avg_scores = avg_scores\n",
    "                best_acc = avg_scores['test_accuracy']\n",
    "            \n",
    "    print(under_fact, over_fact)\n",
    "    print(best_avg_scores)"
   ]
  },
  {
   "cell_type": "markdown",
   "metadata": {},
   "source": [
    "## Gaussian Z-Score"
   ]
  },
  {
   "cell_type": "code",
   "execution_count": 67,
   "metadata": {},
   "outputs": [
    {
     "name": "stdout",
     "output_type": "stream",
     "text": [
      "Threshold for outliers =  0\n",
      "Outliers number =  85\n",
      "224  ||  224\n",
      "0.0 0.30000000000000004\n",
      "{'test_accuracy': 0.8320588235294117, 'test_precision': 0.8751996805111821, 'test_recall': 0.8944897959183673}\n",
      "Threshold for outliers =  1\n",
      "Outliers number =  10\n",
      "289  ||  289\n",
      "0.2 0.7000000000000001\n",
      "{'test_accuracy': 0.8068965517241379, 'test_precision': 0.8459320948110186, 'test_recall': 0.8803333333333333}\n",
      "Threshold for outliers =  2\n",
      "Outliers number =  0\n",
      "299  ||  299\n",
      "0.8 1.0\n",
      "{'test_accuracy': 0.7968888888888889, 'test_precision': 0.836166194523135, 'test_recall': 0.870983606557377}\n"
     ]
    }
   ],
   "source": [
    "#MultinomialNB cannot compute negative values.\n",
    "best_acc = 0\n",
    "under_fact = 0\n",
    "over_fact = 0\n",
    "threshold_fact = 0\n",
    "for threshold in range(0,3):\n",
    "    \n",
    "    X_clean, y_clean = remove_outliers(data,threshold)\n",
    "    transf = StandardScaler(with_mean=True, with_std=True, copy=True).fit(X_clean)\n",
    "    df_nr = pd.DataFrame(transf.transform(X_clean), columns= X_clean.columns)\n",
    "    norm_data_zscore = df_nr\n",
    "    norm_data_zscore.describe(include='all')\n",
    "    X: np.ndarray = norm_data_zscore.values\n",
    "    y: np.ndarray = y_clean.values\n",
    "    labels: np.ndarray = pd.unique(y)\n",
    "    \n",
    "    undersample_range = [x*0.1 for x in range(11)]\n",
    "    oversample_range = [x*0.1 for x in range(11)]\n",
    "    clf = GaussianNB()\n",
    "    best_acc = 0\n",
    "    under_fact = 0\n",
    "    over_fact = 0\n",
    "    for undersample in undersample_range:\n",
    "        for oversample in oversample_range:\n",
    "            avg_scores = {'test_accuracy':0, 'test_precision':0, 'test_recall':0}\n",
    "\n",
    "            total=[0,0,0,0]\n",
    "            for ix in range(100):\n",
    "                trnX, tstX, trnY, tstY = train_test_split(X, y, train_size=0.7, stratify=y)\n",
    "                balanceX, balanceY = balancing(trnX, trnY, undersample, oversample)\n",
    "                clf.fit(balanceX, balanceY)\n",
    "                prd_trn = clf.predict(balanceX)\n",
    "                prd_tst = clf.predict(tstX)\n",
    "                cnf_mtx_tst = metrics.confusion_matrix(tstY, prd_tst, labels)\n",
    "                tn, fp, fn, tp = cnf_mtx_tst.ravel()\n",
    "                total[0]+=tp\n",
    "                total[1]+=tn\n",
    "                total[2]+=fp\n",
    "                total[3]+=fn\n",
    "\n",
    "\n",
    "            avg_scores['test_accuracy'] = (total[0]+total[1])/(total[0]+total[1]+total[2]+total[3])\n",
    "            avg_scores['test_precision'] = total[0]/(total[0]+total[2])\n",
    "            avg_scores['test_recall'] = total[0]/(total[0]+total[3])\n",
    "\n",
    "            if avg_scores['test_accuracy'] > best_acc:\n",
    "                under_fact = undersample\n",
    "                over_fact = oversample\n",
    "                best_avg_scores = avg_scores\n",
    "                best_acc = avg_scores['test_accuracy']\n",
    "            \n",
    "    print(under_fact, over_fact)\n",
    "    print(best_avg_scores)"
   ]
  },
  {
   "cell_type": "markdown",
   "metadata": {},
   "source": [
    "## Gaussian MinMax"
   ]
  },
  {
   "cell_type": "code",
   "execution_count": 68,
   "metadata": {},
   "outputs": [
    {
     "name": "stdout",
     "output_type": "stream",
     "text": [
      "Threshold for outliers =  0\n",
      "Outliers number =  85\n",
      "224  ||  224\n",
      "0.4 0.0\n",
      "{'test_accuracy': 0.8341176470588235, 'test_precision': 0.879476861167002, 'test_recall': 0.8920408163265307}\n",
      "Threshold for outliers =  1\n",
      "Outliers number =  10\n",
      "289  ||  289\n",
      "0.0 0.9\n",
      "{'test_accuracy': 0.8066666666666666, 'test_precision': 0.8473294723294723, 'test_recall': 0.8778333333333334}\n",
      "Threshold for outliers =  2\n",
      "Outliers number =  0\n",
      "299  ||  299\n",
      "1.0 0.5\n",
      "{'test_accuracy': 0.7965555555555556, 'test_precision': 0.8409199808337326, 'test_recall': 0.8631147540983607}\n"
     ]
    }
   ],
   "source": [
    "#MultinomialNB cannot compute negative values.\n",
    "best_acc = 0\n",
    "under_fact = 0\n",
    "over_fact = 0\n",
    "threshold_fact = 0\n",
    "for threshold in range(0,3):\n",
    "    \n",
    "    X_clean, y_clean = remove_outliers(data,threshold)\n",
    "    transf = MinMaxScaler(feature_range=(0, 1), copy=True).fit(X_clean)\n",
    "    df_nr = pd.DataFrame(transf.transform(X_clean), columns= X_clean.columns)\n",
    "    norm_data_minmax = df_nr\n",
    "    norm_data_minmax.describe(include='all')\n",
    "    y: np.ndarray = y_clean.values\n",
    "    X: np.ndarray = norm_data_minmax.values\n",
    "    labels: np.ndarray = pd.unique(y)\n",
    "    \n",
    "    undersample_range = [x*0.1 for x in range(11)]\n",
    "    oversample_range = [x*0.1 for x in range(11)]\n",
    "    clf = GaussianNB()\n",
    "    best_acc = 0\n",
    "    under_fact = 0\n",
    "    over_fact = 0\n",
    "    for undersample in undersample_range:\n",
    "        for oversample in oversample_range:\n",
    "            avg_scores = {'test_accuracy':0, 'test_precision':0, 'test_recall':0}\n",
    "\n",
    "            total=[0,0,0,0]\n",
    "            for ix in range(100):\n",
    "                trnX, tstX, trnY, tstY = train_test_split(X, y, train_size=0.7, stratify=y)\n",
    "                balanceX, balanceY = balancing(trnX, trnY, undersample, oversample)\n",
    "                clf.fit(balanceX, balanceY)\n",
    "                prd_trn = clf.predict(balanceX)\n",
    "                prd_tst = clf.predict(tstX)\n",
    "                cnf_mtx_tst = metrics.confusion_matrix(tstY, prd_tst, labels)\n",
    "                tn, fp, fn, tp = cnf_mtx_tst.ravel()\n",
    "                total[0]+=tp\n",
    "                total[1]+=tn\n",
    "                total[2]+=fp\n",
    "                total[3]+=fn\n",
    "\n",
    "\n",
    "            avg_scores['test_accuracy'] = (total[0]+total[1])/(total[0]+total[1]+total[2]+total[3])\n",
    "            avg_scores['test_precision'] = total[0]/(total[0]+total[2])\n",
    "            avg_scores['test_recall'] = total[0]/(total[0]+total[3])\n",
    "\n",
    "            if avg_scores['test_accuracy'] > best_acc:\n",
    "                under_fact = undersample\n",
    "                over_fact = oversample\n",
    "                best_avg_scores = avg_scores\n",
    "                best_acc = avg_scores['test_accuracy']\n",
    "            \n",
    "    print(under_fact, over_fact)\n",
    "    print(best_avg_scores)"
   ]
  },
  {
   "cell_type": "markdown",
   "metadata": {},
   "source": [
    "## Bernoulli"
   ]
  },
  {
   "cell_type": "code",
   "execution_count": 69,
   "metadata": {},
   "outputs": [
    {
     "name": "stdout",
     "output_type": "stream",
     "text": [
      "Threshold for outliers =  0\n",
      "Outliers number =  85\n",
      "224  ||  224\n",
      "0.0 0.0\n",
      "{'test_accuracy': 0.7198529411764706, 'test_precision': 0.7203826342899191, 'test_recall': 0.9989795918367347}\n",
      "Threshold for outliers =  1\n",
      "Outliers number =  10\n",
      "289  ||  289\n",
      "0.0 0.0\n",
      "{'test_accuracy': 0.6878160919540229, 'test_precision': 0.6892141046324037, 'test_recall': 0.9968333333333333}\n",
      "Threshold for outliers =  2\n",
      "Outliers number =  0\n",
      "299  ||  299\n",
      "0.0 0.0\n",
      "{'test_accuracy': 0.676, 'test_precision': 0.6774013817695564, 'test_recall': 0.9965573770491803}\n"
     ]
    }
   ],
   "source": [
    "#MultinomialNB cannot compute negative values.\n",
    "best_acc = 0\n",
    "under_fact = 0\n",
    "over_fact = 0\n",
    "threshold_fact = 0\n",
    "for threshold in range(0,3):\n",
    "    \n",
    "    X_clean, y_clean = remove_outliers(data,threshold)\n",
    "    X: np.ndarray = X_clean.values\n",
    "    y: np.ndarray = y_clean.values\n",
    "    labels: np.ndarray = pd.unique(y)\n",
    "    \n",
    "    undersample_range = [x*0.1 for x in range(11)]\n",
    "    oversample_range = [x*0.1 for x in range(11)]\n",
    "    clf = BernoulliNB()\n",
    "    best_acc = 0\n",
    "    under_fact = 0\n",
    "    over_fact = 0\n",
    "    for undersample in undersample_range:\n",
    "        for oversample in oversample_range:\n",
    "            avg_scores = {'test_accuracy':0, 'test_precision':0, 'test_recall':0}\n",
    "\n",
    "            total=[0,0,0,0]\n",
    "            for ix in range(100):\n",
    "                trnX, tstX, trnY, tstY = train_test_split(X, y, train_size=0.7, stratify=y)\n",
    "                balanceX, balanceY = balancing(trnX, trnY, undersample, oversample)\n",
    "                clf.fit(balanceX, balanceY)\n",
    "                prd_trn = clf.predict(balanceX)\n",
    "                prd_tst = clf.predict(tstX)\n",
    "                cnf_mtx_tst = metrics.confusion_matrix(tstY, prd_tst, labels)\n",
    "                tn, fp, fn, tp = cnf_mtx_tst.ravel()\n",
    "                total[0]+=tp\n",
    "                total[1]+=tn\n",
    "                total[2]+=fp\n",
    "                total[3]+=fn\n",
    "\n",
    "\n",
    "            avg_scores['test_accuracy'] = (total[0]+total[1])/(total[0]+total[1]+total[2]+total[3])\n",
    "            avg_scores['test_precision'] = total[0]/(total[0]+total[2])\n",
    "            avg_scores['test_recall'] = total[0]/(total[0]+total[3])\n",
    "\n",
    "            if avg_scores['test_accuracy'] > best_acc:\n",
    "                under_fact = undersample\n",
    "                over_fact = oversample\n",
    "                best_avg_scores = avg_scores\n",
    "                best_acc = avg_scores['test_accuracy']\n",
    "            \n",
    "    print(under_fact, over_fact)\n",
    "    print(best_avg_scores)"
   ]
  },
  {
   "cell_type": "markdown",
   "metadata": {},
   "source": [
    "## Bernoulli Z-Score"
   ]
  },
  {
   "cell_type": "code",
   "execution_count": 70,
   "metadata": {},
   "outputs": [
    {
     "name": "stdout",
     "output_type": "stream",
     "text": [
      "Threshold for outliers =  0\n",
      "Outliers number =  85\n",
      "224  ||  224\n",
      "0.0 0.0\n",
      "{'test_accuracy': 0.7455882352941177, 'test_precision': 0.7864112757499097, 'test_recall': 0.8881632653061224}\n",
      "Threshold for outliers =  1\n",
      "Outliers number =  10\n",
      "289  ||  289\n",
      "0.30000000000000004 0.0\n",
      "{'test_accuracy': 0.7519540229885058, 'test_precision': 0.798941798941799, 'test_recall': 0.8556666666666667}\n",
      "Threshold for outliers =  2\n",
      "Outliers number =  0\n",
      "299  ||  299\n",
      "0.1 0.2\n",
      "{'test_accuracy': 0.7478888888888889, 'test_precision': 0.7930243230839835, 'test_recall': 0.8498360655737704}\n"
     ]
    }
   ],
   "source": [
    "#MultinomialNB cannot compute negative values.\n",
    "best_acc = 0\n",
    "under_fact = 0\n",
    "over_fact = 0\n",
    "threshold_fact = 0\n",
    "for threshold in range(0,3):\n",
    "    \n",
    "    X_clean, y_clean = remove_outliers(data,threshold)\n",
    "    transf = StandardScaler(with_mean=True, with_std=True, copy=True).fit(X_clean)\n",
    "    df_nr = pd.DataFrame(transf.transform(X_clean), columns= X_clean.columns)\n",
    "    norm_data_zscore = df_nr\n",
    "    norm_data_zscore.describe(include='all')\n",
    "    X: np.ndarray = norm_data_zscore.values\n",
    "    y: np.ndarray = y_clean.values\n",
    "    labels: np.ndarray = pd.unique(y)\n",
    "    \n",
    "    undersample_range = [x*0.1 for x in range(11)]\n",
    "    oversample_range = [x*0.1 for x in range(11)]\n",
    "    clf = BernoulliNB()\n",
    "    best_acc = 0\n",
    "    under_fact = 0\n",
    "    over_fact = 0\n",
    "    for undersample in undersample_range:\n",
    "        for oversample in oversample_range:\n",
    "            avg_scores = {'test_accuracy':0, 'test_precision':0, 'test_recall':0}\n",
    "\n",
    "            total=[0,0,0,0]\n",
    "            for ix in range(100):\n",
    "                trnX, tstX, trnY, tstY = train_test_split(X, y, train_size=0.7, stratify=y)\n",
    "                balanceX, balanceY = balancing(trnX, trnY, undersample, oversample)\n",
    "                clf.fit(balanceX, balanceY)\n",
    "                prd_trn = clf.predict(balanceX)\n",
    "                prd_tst = clf.predict(tstX)\n",
    "                cnf_mtx_tst = metrics.confusion_matrix(tstY, prd_tst, labels)\n",
    "                tn, fp, fn, tp = cnf_mtx_tst.ravel()\n",
    "                total[0]+=tp\n",
    "                total[1]+=tn\n",
    "                total[2]+=fp\n",
    "                total[3]+=fn\n",
    "\n",
    "\n",
    "            avg_scores['test_accuracy'] = (total[0]+total[1])/(total[0]+total[1]+total[2]+total[3])\n",
    "            avg_scores['test_precision'] = total[0]/(total[0]+total[2])\n",
    "            avg_scores['test_recall'] = total[0]/(total[0]+total[3])\n",
    "\n",
    "            if avg_scores['test_accuracy'] > best_acc:\n",
    "                under_fact = undersample\n",
    "                over_fact = oversample\n",
    "                best_avg_scores = avg_scores\n",
    "                best_acc = avg_scores['test_accuracy']\n",
    "            \n",
    "    print(under_fact, over_fact)\n",
    "    print(best_avg_scores)"
   ]
  },
  {
   "cell_type": "markdown",
   "metadata": {},
   "source": [
    "## Bernoulli MinMax"
   ]
  },
  {
   "cell_type": "code",
   "execution_count": 71,
   "metadata": {},
   "outputs": [
    {
     "name": "stdout",
     "output_type": "stream",
     "text": [
      "Threshold for outliers =  0\n",
      "Outliers number =  85\n",
      "224  ||  224\n",
      "0.1 0.0\n",
      "{'test_accuracy': 0.7144117647058823, 'test_precision': 0.7196969696969697, 'test_recall': 0.9887755102040816}\n",
      "Threshold for outliers =  1\n",
      "Outliers number =  10\n",
      "289  ||  289\n",
      "0.0 0.0\n",
      "{'test_accuracy': 0.6891954022988506, 'test_precision': 0.6911389468800743, 'test_recall': 0.9931666666666666}\n",
      "Threshold for outliers =  2\n",
      "Outliers number =  0\n",
      "299  ||  299\n",
      "0.1 0.0\n",
      "{'test_accuracy': 0.6742222222222222, 'test_precision': 0.6778176919622811, 'test_recall': 0.9898360655737705}\n"
     ]
    }
   ],
   "source": [
    "#MultinomialNB cannot compute negative values.\n",
    "best_acc = 0\n",
    "under_fact = 0\n",
    "over_fact = 0\n",
    "threshold_fact = 0\n",
    "for threshold in range(0,3):\n",
    "    \n",
    "    X_clean, y_clean = remove_outliers(data,threshold)\n",
    "    transf = MinMaxScaler(feature_range=(0, 1), copy=True).fit(X_clean)\n",
    "    df_nr = pd.DataFrame(transf.transform(X_clean), columns= X_clean.columns)\n",
    "    norm_data_minmax = df_nr\n",
    "    norm_data_minmax.describe(include='all')\n",
    "    y: np.ndarray = y_clean.values\n",
    "    X: np.ndarray = norm_data_minmax.values\n",
    "    labels: np.ndarray = pd.unique(y)\n",
    "    \n",
    "    undersample_range = [x*0.1 for x in range(11)]\n",
    "    oversample_range = [x*0.1 for x in range(11)]\n",
    "    clf = BernoulliNB()\n",
    "    best_acc = 0\n",
    "    under_fact = 0\n",
    "    over_fact = 0\n",
    "    for undersample in undersample_range:\n",
    "        for oversample in oversample_range:\n",
    "            avg_scores = {'test_accuracy':0, 'test_precision':0, 'test_recall':0}\n",
    "\n",
    "            total=[0,0,0,0]\n",
    "            for ix in range(100):\n",
    "                trnX, tstX, trnY, tstY = train_test_split(X, y, train_size=0.7, stratify=y)\n",
    "                balanceX, balanceY = balancing(trnX, trnY, undersample, oversample)\n",
    "                clf.fit(balanceX, balanceY)\n",
    "                prd_trn = clf.predict(balanceX)\n",
    "                prd_tst = clf.predict(tstX)\n",
    "                cnf_mtx_tst = metrics.confusion_matrix(tstY, prd_tst, labels)\n",
    "                tn, fp, fn, tp = cnf_mtx_tst.ravel()\n",
    "                total[0]+=tp\n",
    "                total[1]+=tn\n",
    "                total[2]+=fp\n",
    "                total[3]+=fn\n",
    "\n",
    "\n",
    "            avg_scores['test_accuracy'] = (total[0]+total[1])/(total[0]+total[1]+total[2]+total[3])\n",
    "            avg_scores['test_precision'] = total[0]/(total[0]+total[2])\n",
    "            avg_scores['test_recall'] = total[0]/(total[0]+total[3])\n",
    "\n",
    "            if avg_scores['test_accuracy'] > best_acc:\n",
    "                under_fact = undersample\n",
    "                over_fact = oversample\n",
    "                best_avg_scores = avg_scores\n",
    "                best_acc = avg_scores['test_accuracy']\n",
    "            \n",
    "    print(under_fact, over_fact)\n",
    "    print(best_avg_scores)"
   ]
  },
  {
   "cell_type": "markdown",
   "metadata": {},
   "source": [
    "# Feature Selection - SFS/SBS"
   ]
  },
  {
   "cell_type": "markdown",
   "metadata": {},
   "source": [
    "## Multinomial (SFS)"
   ]
  },
  {
   "cell_type": "code",
   "execution_count": 12,
   "metadata": {},
   "outputs": [
    {
     "name": "stdout",
     "output_type": "stream",
     "text": [
      "Threshold for outliers =  0\n",
      "Outliers number =  85\n",
      "224  ||  224\n",
      "0.0 0.1 (0, 4, 5)\n",
      "{'test_accuracy': 0.7452941176470588, 'test_precision': 0.8775023832221163, 'test_recall': 0.7514285714285714}\n",
      "Threshold for outliers =  1\n",
      "Outliers number =  10\n",
      "289  ||  289\n",
      "0.4 0.4 (0, 1, 4, 7)\n",
      "{'test_accuracy': 0.6857471264367816, 'test_precision': 0.77933629832364, 'test_recall': 0.7593333333333333}\n",
      "Threshold for outliers =  2\n",
      "Outliers number =  0\n",
      "299  ||  299\n",
      "0.2 0.30000000000000004 (0, 4, 7)\n",
      "{'test_accuracy': 0.6772222222222222, 'test_precision': 0.7599674532139952, 'test_recall': 0.7655737704918033}\n"
     ]
    }
   ],
   "source": [
    "from mlxtend.feature_selection import SequentialFeatureSelector as SFS\n",
    "#MultinomialNB cannot compute negative values.\n",
    "best_acc = 0\n",
    "under_fact = 0\n",
    "over_fact = 0\n",
    "threshold_fact = 0\n",
    "for threshold in range(0,3):\n",
    "    \n",
    "    X_clean, y_clean = remove_outliers(data,threshold)\n",
    "    X: np.ndarray = X_clean.values\n",
    "    y: np.ndarray = y_clean.values\n",
    "    labels: np.ndarray = pd.unique(y)\n",
    "    \n",
    "    undersample_range = [x*0.1 for x in range(11)]\n",
    "    oversample_range = [x*0.1 for x in range(11)]\n",
    "    clf = MultinomialNB()\n",
    "    best_acc = 0\n",
    "    under_fact = 0\n",
    "    over_fact = 0\n",
    "    for undersample in undersample_range:\n",
    "        for oversample in oversample_range:\n",
    "            avg_scores = {'test_accuracy':0, 'test_precision':0, 'test_recall':0}\n",
    "            sfs1 = SFS(clf, \n",
    "                       k_features=(1,X.shape[1]), \n",
    "                       forward=True, # if forward = True then SFS otherwise SBS\n",
    "                       scoring='accuracy'\n",
    "                       ).fit(X,y)\n",
    "            \n",
    "            for ix in range(X.shape[1],0):\n",
    "                if ix not in sfs1.k_feature_idx_:\n",
    "                    X = np.delete(X,ix,1)\n",
    "                    \n",
    "            total=[0,0,0,0]\n",
    "            for ix in range(100):\n",
    "                trnX, tstX, trnY, tstY = train_test_split(X, y, train_size=0.7, stratify=y)\n",
    "                balanceX, balanceY = balancing(trnX, trnY, undersample, oversample)\n",
    "                clf.fit(balanceX, balanceY)\n",
    "                prd_trn = clf.predict(balanceX)\n",
    "                prd_tst = clf.predict(tstX)\n",
    "                cnf_mtx_tst = metrics.confusion_matrix(tstY, prd_tst, labels)\n",
    "                tn, fp, fn, tp = cnf_mtx_tst.ravel()\n",
    "                total[0]+=tp\n",
    "                total[1]+=tn\n",
    "                total[2]+=fp\n",
    "                total[3]+=fn\n",
    "                \n",
    "                avg_scores['test_accuracy'] = (total[0]+total[1])/(total[0]+total[1]+total[2]+total[3])\n",
    "                avg_scores['test_precision'] = total[0]/(total[0]+total[2])\n",
    "                avg_scores['test_recall'] = total[0]/(total[0]+total[3])\n",
    "\n",
    "\n",
    "            if avg_scores['test_accuracy'] > best_acc:\n",
    "                sfs_fact = sfs1.k_feature_idx_\n",
    "                under_fact = undersample\n",
    "                over_fact = oversample\n",
    "                best_avg_scores = avg_scores\n",
    "                best_acc = avg_scores['test_accuracy']\n",
    "            \n",
    "    print(under_fact, over_fact, sfs1.k_feature_idx_)\n",
    "    print(best_avg_scores)\n"
   ]
  },
  {
   "cell_type": "markdown",
   "metadata": {},
   "source": [
    "## Multinomial MinMax (SFS)"
   ]
  },
  {
   "cell_type": "code",
   "execution_count": 13,
   "metadata": {},
   "outputs": [
    {
     "name": "stdout",
     "output_type": "stream",
     "text": [
      "Threshold for outliers =  0\n",
      "Outliers number =  85\n",
      "224  ||  224\n",
      "0.1 0.7000000000000001 (0,)\n",
      "{'test_accuracy': 0.7845588235294118, 'test_precision': 0.8155428991365056, 'test_recall': 0.9059183673469388}\n",
      "Threshold for outliers =  1\n",
      "Outliers number =  10\n",
      "289  ||  289\n",
      "0.1 0.6000000000000001 (0, 1, 2, 3, 4, 5, 7, 11)\n",
      "{'test_accuracy': 0.7550574712643678, 'test_precision': 0.7724264188142516, 'test_recall': 0.9141666666666667}\n",
      "Threshold for outliers =  2\n",
      "Outliers number =  0\n",
      "299  ||  299\n",
      "0.1 0.6000000000000001 (0, 1, 2, 3, 4, 5, 7, 11)\n",
      "{'test_accuracy': 0.7484444444444445, 'test_precision': 0.7616643929058663, 'test_recall': 0.9152459016393443}\n"
     ]
    }
   ],
   "source": [
    "from mlxtend.feature_selection import SequentialFeatureSelector as SFS\n",
    "#MultinomialNB cannot compute negative values.\n",
    "best_acc = 0\n",
    "under_fact = 0\n",
    "over_fact = 0\n",
    "threshold_fact = 0\n",
    "for threshold in range(0,3):\n",
    "    \n",
    "    X_clean, y_clean = remove_outliers(data,threshold)\n",
    "    transf = MinMaxScaler(feature_range=(0, 1), copy=True).fit(X_clean)\n",
    "    df_nr = pd.DataFrame(transf.transform(X_clean), columns= X_clean.columns)\n",
    "    norm_data_minmax = df_nr\n",
    "    norm_data_minmax.describe(include='all')\n",
    "    y: np.ndarray = y_clean.values\n",
    "    X: np.ndarray = norm_data_minmax.values\n",
    "    labels: np.ndarray = pd.unique(y)\n",
    "    \n",
    "    \n",
    "    undersample_range = [x*0.1 for x in range(11)]\n",
    "    oversample_range = [x*0.1 for x in range(11)]\n",
    "    clf = MultinomialNB()\n",
    "    best_acc = 0\n",
    "    under_fact = 0\n",
    "    over_fact = 0\n",
    "    for undersample in undersample_range:\n",
    "        for oversample in oversample_range:\n",
    "            avg_scores = {'test_accuracy':0, 'test_precision':0, 'test_recall':0}\n",
    "            sfs1 = SFS(clf, \n",
    "                       k_features=(1,X.shape[1]), \n",
    "                       forward=True, # if forward = True then SFS otherwise SBS\n",
    "                       scoring='accuracy'\n",
    "                       ).fit(X,y)\n",
    "            \n",
    "            for ix in range(X.shape[1],0):\n",
    "                if ix not in sfs1.k_feature_idx_:\n",
    "                    X = np.delete(X,ix,1)\n",
    "                    \n",
    "            total=[0,0,0,0]\n",
    "            for ix in range(100):\n",
    "                trnX, tstX, trnY, tstY = train_test_split(X, y, train_size=0.7, stratify=y)\n",
    "                balanceX, balanceY = balancing(trnX, trnY, undersample, oversample)\n",
    "                clf.fit(balanceX, balanceY)\n",
    "                prd_trn = clf.predict(balanceX)\n",
    "                prd_tst = clf.predict(tstX)\n",
    "                cnf_mtx_tst = metrics.confusion_matrix(tstY, prd_tst, labels)\n",
    "                tn, fp, fn, tp = cnf_mtx_tst.ravel()\n",
    "                total[0]+=tp\n",
    "                total[1]+=tn\n",
    "                total[2]+=fp\n",
    "                total[3]+=fn\n",
    "                \n",
    "                avg_scores['test_accuracy'] = (total[0]+total[1])/(total[0]+total[1]+total[2]+total[3])\n",
    "                avg_scores['test_precision'] = total[0]/(total[0]+total[2])\n",
    "                avg_scores['test_recall'] = total[0]/(total[0]+total[3])\n",
    "\n",
    "\n",
    "            if avg_scores['test_accuracy'] > best_acc:\n",
    "                sfs_fact = sfs1.k_feature_idx_\n",
    "                under_fact = undersample\n",
    "                over_fact = oversample\n",
    "                best_avg_scores = avg_scores\n",
    "                best_acc = avg_scores['test_accuracy']\n",
    "            \n",
    "    print(under_fact, over_fact, sfs1.k_feature_idx_)\n",
    "    print(best_avg_scores)\n"
   ]
  },
  {
   "cell_type": "markdown",
   "metadata": {},
   "source": [
    "## Multinomial (SBS)"
   ]
  },
  {
   "cell_type": "code",
   "execution_count": 14,
   "metadata": {
    "scrolled": true
   },
   "outputs": [
    {
     "name": "stdout",
     "output_type": "stream",
     "text": [
      "Threshold for outliers =  0\n",
      "Outliers number =  85\n",
      "224  ||  224\n",
      "0.1 0.0 (0, 1, 2, 3, 4, 5, 7, 8, 9, 10, 11)\n",
      "{'test_accuracy': 0.7427941176470588, 'test_precision': 0.8741391593445738, 'test_recall': 0.7512244897959184}\n",
      "Threshold for outliers =  1\n",
      "Outliers number =  10\n",
      "289  ||  289\n",
      "0.5 0.0 (1, 3, 4, 5, 6, 7, 8, 9, 10, 11)\n",
      "{'test_accuracy': 0.6817241379310345, 'test_precision': 0.7736744028460105, 'test_recall': 0.7611666666666667}\n",
      "Threshold for outliers =  2\n",
      "Outliers number =  0\n",
      "299  ||  299\n",
      "0.30000000000000004 0.0 (0, 1, 3, 4, 5, 6, 8, 9, 10, 11)\n",
      "{'test_accuracy': 0.6715555555555556, 'test_precision': 0.7498410680228862, 'test_recall': 0.7734426229508197}\n"
     ]
    }
   ],
   "source": [
    "from mlxtend.feature_selection import SequentialFeatureSelector as SFS\n",
    "#MultinomialNB cannot compute negative values.\n",
    "best_acc = 0\n",
    "under_fact = 0\n",
    "over_fact = 0\n",
    "threshold_fact = 0\n",
    "for threshold in range(0,3):\n",
    "    \n",
    "    X_clean, y_clean = remove_outliers(data,threshold)\n",
    "    X: np.ndarray = X_clean.values\n",
    "    y: np.ndarray = y_clean.values\n",
    "    labels: np.ndarray = pd.unique(y)\n",
    "    \n",
    "    undersample_range = [x*0.1 for x in range(11)]\n",
    "    oversample_range = [x*0.1 for x in range(11)]\n",
    "    clf = MultinomialNB()\n",
    "    best_acc = 0\n",
    "    under_fact = 0\n",
    "    over_fact = 0\n",
    "    for undersample in undersample_range:\n",
    "        for oversample in oversample_range:\n",
    "            avg_scores = {'test_accuracy':0, 'test_precision':0, 'test_recall':0}\n",
    "            sfs1 = SFS(clf, \n",
    "                       k_features=(1,X.shape[1]), \n",
    "                       forward=False, # if forward = True then SFS otherwise SBS\n",
    "                       scoring='accuracy'\n",
    "                       ).fit(X,y)\n",
    "            \n",
    "            for ix in range(X.shape[1],0):\n",
    "                if ix not in sfs1.k_feature_idx_:\n",
    "                    X = np.delete(X,ix,1)\n",
    "                    \n",
    "            total=[0,0,0,0]\n",
    "            for ix in range(100):\n",
    "                trnX, tstX, trnY, tstY = train_test_split(X, y, train_size=0.7, stratify=y)\n",
    "                balanceX, balanceY = balancing(trnX, trnY, undersample, oversample)\n",
    "                clf.fit(balanceX, balanceY)\n",
    "                prd_trn = clf.predict(balanceX)\n",
    "                prd_tst = clf.predict(tstX)\n",
    "                cnf_mtx_tst = metrics.confusion_matrix(tstY, prd_tst, labels)\n",
    "                tn, fp, fn, tp = cnf_mtx_tst.ravel()\n",
    "                total[0]+=tp\n",
    "                total[1]+=tn\n",
    "                total[2]+=fp\n",
    "                total[3]+=fn\n",
    "                \n",
    "                avg_scores['test_accuracy'] = (total[0]+total[1])/(total[0]+total[1]+total[2]+total[3])\n",
    "                avg_scores['test_precision'] = total[0]/(total[0]+total[2])\n",
    "                avg_scores['test_recall'] = total[0]/(total[0]+total[3])\n",
    "\n",
    "\n",
    "            if avg_scores['test_accuracy'] > best_acc:\n",
    "                sfs_fact = sfs1.k_feature_idx_\n",
    "                under_fact = undersample\n",
    "                over_fact = oversample\n",
    "                best_avg_scores = avg_scores\n",
    "                best_acc = avg_scores['test_accuracy']\n",
    "            \n",
    "    print(under_fact, over_fact, sfs1.k_feature_idx_)\n",
    "    print(best_avg_scores)\n"
   ]
  },
  {
   "cell_type": "markdown",
   "metadata": {},
   "source": [
    "## Multinomial MinMax (SBS)"
   ]
  },
  {
   "cell_type": "code",
   "execution_count": 15,
   "metadata": {},
   "outputs": [
    {
     "name": "stdout",
     "output_type": "stream",
     "text": [
      "Threshold for outliers =  0\n",
      "Outliers number =  85\n",
      "224  ||  224\n",
      "0.2 0.6000000000000001 (0, 2, 3, 4, 5, 6, 7, 8, 9, 10, 11)\n",
      "{'test_accuracy': 0.7839705882352941, 'test_precision': 0.7963378821903611, 'test_recall': 0.9408163265306122}\n",
      "Threshold for outliers =  1\n",
      "Outliers number =  10\n",
      "289  ||  289\n",
      "0.1 0.7000000000000001 (0, 1, 2, 4, 5, 7, 8, 9, 10, 11)\n",
      "{'test_accuracy': 0.7574712643678161, 'test_precision': 0.782867946480512, 'test_recall': 0.8971666666666667}\n",
      "Threshold for outliers =  2\n",
      "Outliers number =  0\n",
      "299  ||  299\n",
      "0.1 0.7000000000000001 (0, 1, 4, 5, 6, 7, 8, 9, 10, 11)\n",
      "{'test_accuracy': 0.7502222222222222, 'test_precision': 0.7784846732215154, 'test_recall': 0.8826229508196721}\n"
     ]
    }
   ],
   "source": [
    "from mlxtend.feature_selection import SequentialFeatureSelector as SFS\n",
    "#MultinomialNB cannot compute negative values.\n",
    "best_acc = 0\n",
    "under_fact = 0\n",
    "over_fact = 0\n",
    "threshold_fact = 0\n",
    "for threshold in range(0,3):\n",
    "    \n",
    "    X_clean, y_clean = remove_outliers(data,threshold)\n",
    "    transf = MinMaxScaler(feature_range=(0, 1), copy=True).fit(X_clean)\n",
    "    df_nr = pd.DataFrame(transf.transform(X_clean), columns= X_clean.columns)\n",
    "    norm_data_minmax = df_nr\n",
    "    norm_data_minmax.describe(include='all')\n",
    "    y: np.ndarray = y_clean.values\n",
    "    X: np.ndarray = norm_data_minmax.values\n",
    "    labels: np.ndarray = pd.unique(y)\n",
    "    \n",
    "    undersample_range = [x*0.1 for x in range(11)]\n",
    "    oversample_range = [x*0.1 for x in range(11)]\n",
    "    clf = MultinomialNB()\n",
    "    best_acc = 0\n",
    "    under_fact = 0\n",
    "    over_fact = 0\n",
    "    for undersample in undersample_range:\n",
    "        for oversample in oversample_range:\n",
    "            avg_scores = {'test_accuracy':0, 'test_precision':0, 'test_recall':0}\n",
    "            sfs1 = SFS(clf, \n",
    "                       k_features=(1,X.shape[1]), \n",
    "                       forward=False, # if forward = True then SFS otherwise SBS\n",
    "                       scoring='accuracy'\n",
    "                       ).fit(X,y)\n",
    "            \n",
    "            for ix in range(X.shape[1],0):\n",
    "                if ix not in sfs1.k_feature_idx_:\n",
    "                    X = np.delete(X,ix,1)\n",
    "                    \n",
    "            total=[0,0,0,0]\n",
    "            for ix in range(100):\n",
    "                trnX, tstX, trnY, tstY = train_test_split(X, y, train_size=0.7, stratify=y)\n",
    "                balanceX, balanceY = balancing(trnX, trnY, undersample, oversample)\n",
    "                clf.fit(balanceX, balanceY)\n",
    "                prd_trn = clf.predict(balanceX)\n",
    "                prd_tst = clf.predict(tstX)\n",
    "                cnf_mtx_tst = metrics.confusion_matrix(tstY, prd_tst, labels)\n",
    "                tn, fp, fn, tp = cnf_mtx_tst.ravel()\n",
    "                total[0]+=tp\n",
    "                total[1]+=tn\n",
    "                total[2]+=fp\n",
    "                total[3]+=fn\n",
    "                \n",
    "                avg_scores['test_accuracy'] = (total[0]+total[1])/(total[0]+total[1]+total[2]+total[3])\n",
    "                avg_scores['test_precision'] = total[0]/(total[0]+total[2])\n",
    "                avg_scores['test_recall'] = total[0]/(total[0]+total[3])\n",
    "\n",
    "\n",
    "            if avg_scores['test_accuracy'] > best_acc:\n",
    "                sfs_fact = sfs1.k_feature_idx_\n",
    "                under_fact = undersample\n",
    "                over_fact = oversample\n",
    "                best_avg_scores = avg_scores\n",
    "                best_acc = avg_scores['test_accuracy']\n",
    "            \n",
    "    print(under_fact, over_fact, sfs1.k_feature_idx_)\n",
    "    print(best_avg_scores)\n"
   ]
  },
  {
   "cell_type": "markdown",
   "metadata": {},
   "source": [
    "## Gaussian (SFS)"
   ]
  },
  {
   "cell_type": "code",
   "execution_count": 17,
   "metadata": {},
   "outputs": [
    {
     "name": "stdout",
     "output_type": "stream",
     "text": [
      "Threshold for outliers =  0\n",
      "Outliers number =  85\n",
      "224  ||  224\n",
      "0.1 0.1 (0, 1, 2, 3, 4, 5, 7, 8, 9, 10, 11)\n",
      "{'test_accuracy': 0.845, 'test_precision': 0.8742701440249124, 'test_recall': 0.916734693877551}\n",
      "Threshold for outliers =  1\n",
      "Outliers number =  10\n",
      "289  ||  289\n",
      "0.1 0.7000000000000001 (0, 4, 5, 8, 10, 11)\n",
      "{'test_accuracy': 0.8264367816091954, 'test_precision': 0.8681534929485077, 'test_recall': 0.8823333333333333}\n",
      "Threshold for outliers =  2\n",
      "Outliers number =  0\n",
      "299  ||  299\n",
      "0.30000000000000004 0.7000000000000001 (0, 1, 3, 4, 5, 11)\n",
      "{'test_accuracy': 0.818, 'test_precision': 0.8578761629772217, 'test_recall': 0.8767213114754099}\n"
     ]
    }
   ],
   "source": [
    "from mlxtend.feature_selection import SequentialFeatureSelector as SFS\n",
    "#MultinomialNB cannot compute negative values.\n",
    "best_acc = 0\n",
    "under_fact = 0\n",
    "over_fact = 0\n",
    "threshold_fact = 0\n",
    "for threshold in range(0,3):\n",
    "    \n",
    "    X_clean, y_clean = remove_outliers(data,threshold)\n",
    "    X: np.ndarray = X_clean.values\n",
    "    y: np.ndarray = y_clean.values\n",
    "    labels: np.ndarray = pd.unique(y)\n",
    "    \n",
    "    undersample_range = [x*0.1 for x in range(11)]\n",
    "    oversample_range = [x*0.1 for x in range(11)]\n",
    "    clf = GaussianNB()\n",
    "    best_acc = 0\n",
    "    under_fact = 0\n",
    "    over_fact = 0\n",
    "    for undersample in undersample_range:\n",
    "        for oversample in oversample_range:\n",
    "            avg_scores = {'test_accuracy':0, 'test_precision':0, 'test_recall':0}\n",
    "            sfs1 = SFS(clf, \n",
    "                       k_features=(1,X.shape[1]), \n",
    "                       forward=True, # if forward = True then SFS otherwise SBS\n",
    "                       scoring='accuracy'\n",
    "                       ).fit(X,y)\n",
    "            \n",
    "            for ix in range(X.shape[1],0):\n",
    "                if ix not in sfs1.k_feature_idx_:\n",
    "                    X = np.delete(X,ix,1)\n",
    "                    \n",
    "            total=[0,0,0,0]\n",
    "            for ix in range(100):\n",
    "                trnX, tstX, trnY, tstY = train_test_split(X, y, train_size=0.7, stratify=y)\n",
    "                balanceX, balanceY = balancing(trnX, trnY, undersample, oversample)\n",
    "                clf.fit(balanceX, balanceY)\n",
    "                prd_trn = clf.predict(balanceX)\n",
    "                prd_tst = clf.predict(tstX)\n",
    "                cnf_mtx_tst = metrics.confusion_matrix(tstY, prd_tst, labels)\n",
    "                tn, fp, fn, tp = cnf_mtx_tst.ravel()\n",
    "                total[0]+=tp\n",
    "                total[1]+=tn\n",
    "                total[2]+=fp\n",
    "                total[3]+=fn\n",
    "                \n",
    "                avg_scores['test_accuracy'] = (total[0]+total[1])/(total[0]+total[1]+total[2]+total[3])\n",
    "                avg_scores['test_precision'] = total[0]/(total[0]+total[2])\n",
    "                avg_scores['test_recall'] = total[0]/(total[0]+total[3])\n",
    "\n",
    "\n",
    "            if avg_scores['test_accuracy'] > best_acc:\n",
    "                sfs_fact = sfs1.k_feature_idx_\n",
    "                under_fact = undersample\n",
    "                over_fact = oversample\n",
    "                best_avg_scores = avg_scores\n",
    "                best_acc = avg_scores['test_accuracy']\n",
    "            \n",
    "    print(under_fact, over_fact, sfs1.k_feature_idx_)\n",
    "    print(best_avg_scores)"
   ]
  },
  {
   "cell_type": "markdown",
   "metadata": {},
   "source": [
    "## Gaussian Z-Score (SFS)"
   ]
  },
  {
   "cell_type": "code",
   "execution_count": 19,
   "metadata": {},
   "outputs": [
    {
     "name": "stdout",
     "output_type": "stream",
     "text": [
      "Threshold for outliers =  0\n",
      "Outliers number =  85\n",
      "224  ||  224\n",
      "0.1 0.5 (0, 1, 2, 3, 4, 5, 7, 8, 9, 10, 11)\n",
      "{'test_accuracy': 0.8302941176470588, 'test_precision': 0.884283955683217, 'test_recall': 0.8795918367346939}\n",
      "Threshold for outliers =  1\n",
      "Outliers number =  10\n",
      "289  ||  289\n",
      "0.1 0.9 (0, 4, 5, 8, 10, 11)\n",
      "{'test_accuracy': 0.8087356321839081, 'test_precision': 0.8501291989664083, 'test_recall': 0.8773333333333333}\n",
      "Threshold for outliers =  2\n",
      "Outliers number =  0\n",
      "299  ||  299\n",
      "0.2 1.0 (0, 1, 3, 4, 5, 11)\n",
      "{'test_accuracy': 0.799, 'test_precision': 0.8351820028120606, 'test_recall': 0.8763934426229508}\n"
     ]
    }
   ],
   "source": [
    "from mlxtend.feature_selection import SequentialFeatureSelector as SFS\n",
    "#MultinomialNB cannot compute negative values.\n",
    "best_acc = 0\n",
    "under_fact = 0\n",
    "over_fact = 0\n",
    "threshold_fact = 0\n",
    "for threshold in range(0,3):\n",
    "    \n",
    "    X_clean, y_clean = remove_outliers(data,threshold)\n",
    "    transf = StandardScaler(with_mean=True, with_std=True, copy=True).fit(X_clean)\n",
    "    df_nr = pd.DataFrame(transf.transform(X_clean), columns= X_clean.columns)\n",
    "    norm_data_zscore = df_nr\n",
    "    norm_data_zscore.describe(include='all')\n",
    "    X: np.ndarray = norm_data_zscore.values\n",
    "    y: np.ndarray = y_clean.values\n",
    "    labels: np.ndarray = pd.unique(y)\n",
    "    \n",
    "    \n",
    "    undersample_range = [x*0.1 for x in range(11)]\n",
    "    oversample_range = [x*0.1 for x in range(11)]\n",
    "    clf = GaussianNB()\n",
    "    best_acc = 0\n",
    "    under_fact = 0\n",
    "    over_fact = 0\n",
    "    for undersample in undersample_range:\n",
    "        for oversample in oversample_range:\n",
    "            avg_scores = {'test_accuracy':0, 'test_precision':0, 'test_recall':0}\n",
    "            sfs1 = SFS(clf, \n",
    "                       k_features=(1,X.shape[1]), \n",
    "                       forward=True, # if forward = True then SFS otherwise SBS\n",
    "                       scoring='accuracy'\n",
    "                       ).fit(X,y)\n",
    "            \n",
    "            for ix in range(X.shape[1],0):\n",
    "                if ix not in sfs1.k_feature_idx_:\n",
    "                    X = np.delete(X,ix,1)\n",
    "                    \n",
    "            total=[0,0,0,0]\n",
    "            for ix in range(100):\n",
    "                trnX, tstX, trnY, tstY = train_test_split(X, y, train_size=0.7, stratify=y)\n",
    "                balanceX, balanceY = balancing(trnX, trnY, undersample, oversample)\n",
    "                clf.fit(balanceX, balanceY)\n",
    "                prd_trn = clf.predict(balanceX)\n",
    "                prd_tst = clf.predict(tstX)\n",
    "                cnf_mtx_tst = metrics.confusion_matrix(tstY, prd_tst, labels)\n",
    "                tn, fp, fn, tp = cnf_mtx_tst.ravel()\n",
    "                total[0]+=tp\n",
    "                total[1]+=tn\n",
    "                total[2]+=fp\n",
    "                total[3]+=fn\n",
    "                \n",
    "                avg_scores['test_accuracy'] = (total[0]+total[1])/(total[0]+total[1]+total[2]+total[3])\n",
    "                avg_scores['test_precision'] = total[0]/(total[0]+total[2])\n",
    "                avg_scores['test_recall'] = total[0]/(total[0]+total[3])\n",
    "\n",
    "\n",
    "            if avg_scores['test_accuracy'] > best_acc:\n",
    "                sfs_fact = sfs1.k_feature_idx_\n",
    "                under_fact = undersample\n",
    "                over_fact = oversample\n",
    "                best_avg_scores = avg_scores\n",
    "                best_acc = avg_scores['test_accuracy']\n",
    "            \n",
    "    print(under_fact, over_fact, sfs1.k_feature_idx_)\n",
    "    print(best_avg_scores)"
   ]
  },
  {
   "cell_type": "markdown",
   "metadata": {},
   "source": [
    "## Gaussian MinMax(SFS)"
   ]
  },
  {
   "cell_type": "code",
   "execution_count": 20,
   "metadata": {},
   "outputs": [
    {
     "name": "stdout",
     "output_type": "stream",
     "text": [
      "Threshold for outliers =  0\n",
      "Outliers number =  85\n",
      "224  ||  224\n",
      "0.5 0.0 (0, 1, 2, 3, 4, 5, 7, 8, 9, 10, 11)\n",
      "{'test_accuracy': 0.8320588235294117, 'test_precision': 0.8826883910386966, 'test_recall': 0.8844897959183673}\n",
      "Threshold for outliers =  1\n",
      "Outliers number =  10\n",
      "289  ||  289\n",
      "0.30000000000000004 1.0 (0, 4, 5, 8, 10, 11)\n",
      "{'test_accuracy': 0.8085057471264367, 'test_precision': 0.8525870484868207, 'test_recall': 0.8733333333333333}\n",
      "Threshold for outliers =  2\n",
      "Outliers number =  0\n",
      "299  ||  299\n",
      "0.9 0.8 (0, 1, 3, 4, 5, 11)\n",
      "{'test_accuracy': 0.7958888888888889, 'test_precision': 0.8352996696554978, 'test_recall': 0.8704918032786885}\n"
     ]
    }
   ],
   "source": [
    "from mlxtend.feature_selection import SequentialFeatureSelector as SFS\n",
    "#MultinomialNB cannot compute negative values.\n",
    "best_acc = 0\n",
    "under_fact = 0\n",
    "over_fact = 0\n",
    "threshold_fact = 0\n",
    "for threshold in range(0,3):\n",
    "    \n",
    "    X_clean, y_clean = remove_outliers(data,threshold)\n",
    "    transf = MinMaxScaler(feature_range=(0, 1), copy=True).fit(X_clean)\n",
    "    df_nr = pd.DataFrame(transf.transform(X_clean), columns= X_clean.columns)\n",
    "    norm_data_minmax = df_nr\n",
    "    norm_data_minmax.describe(include='all')\n",
    "    y: np.ndarray = y_clean.values\n",
    "    X: np.ndarray = norm_data_minmax.values\n",
    "    labels: np.ndarray = pd.unique(y)\n",
    "    \n",
    "    \n",
    "    undersample_range = [x*0.1 for x in range(11)]\n",
    "    oversample_range = [x*0.1 for x in range(11)]\n",
    "    clf = GaussianNB()\n",
    "    best_acc = 0\n",
    "    under_fact = 0\n",
    "    over_fact = 0\n",
    "    for undersample in undersample_range:\n",
    "        for oversample in oversample_range:\n",
    "            avg_scores = {'test_accuracy':0, 'test_precision':0, 'test_recall':0}\n",
    "            sfs1 = SFS(clf, \n",
    "                       k_features=(1,X.shape[1]), \n",
    "                       forward=True, # if forward = True then SFS otherwise SBS\n",
    "                       scoring='accuracy'\n",
    "                       ).fit(X,y)\n",
    "            \n",
    "            for ix in range(X.shape[1],0):\n",
    "                if ix not in sfs1.k_feature_idx_:\n",
    "                    X = np.delete(X,ix,1)\n",
    "                    \n",
    "            total=[0,0,0,0]\n",
    "            for ix in range(100):\n",
    "                trnX, tstX, trnY, tstY = train_test_split(X, y, train_size=0.7, stratify=y)\n",
    "                balanceX, balanceY = balancing(trnX, trnY, undersample, oversample)\n",
    "                clf.fit(balanceX, balanceY)\n",
    "                prd_trn = clf.predict(balanceX)\n",
    "                prd_tst = clf.predict(tstX)\n",
    "                cnf_mtx_tst = metrics.confusion_matrix(tstY, prd_tst, labels)\n",
    "                tn, fp, fn, tp = cnf_mtx_tst.ravel()\n",
    "                total[0]+=tp\n",
    "                total[1]+=tn\n",
    "                total[2]+=fp\n",
    "                total[3]+=fn\n",
    "                \n",
    "                avg_scores['test_accuracy'] = (total[0]+total[1])/(total[0]+total[1]+total[2]+total[3])\n",
    "                avg_scores['test_precision'] = total[0]/(total[0]+total[2])\n",
    "                avg_scores['test_recall'] = total[0]/(total[0]+total[3])\n",
    "\n",
    "\n",
    "            if avg_scores['test_accuracy'] > best_acc:\n",
    "                sfs_fact = sfs1.k_feature_idx_\n",
    "                under_fact = undersample\n",
    "                over_fact = oversample\n",
    "                best_avg_scores = avg_scores\n",
    "                best_acc = avg_scores['test_accuracy']\n",
    "            \n",
    "    print(under_fact, over_fact, sfs1.k_feature_idx_)\n",
    "    print(best_avg_scores)"
   ]
  },
  {
   "cell_type": "markdown",
   "metadata": {},
   "source": [
    "## Gaussian (SBS)"
   ]
  },
  {
   "cell_type": "code",
   "execution_count": 21,
   "metadata": {},
   "outputs": [
    {
     "name": "stdout",
     "output_type": "stream",
     "text": [
      "Threshold for outliers =  0\n",
      "Outliers number =  85\n",
      "224  ||  224\n",
      "0.2 0.0 (0, 1, 3, 4, 5, 7, 8, 9, 10, 11)\n",
      "{'test_accuracy': 0.8480882352941177, 'test_precision': 0.8720415624398692, 'test_recall': 0.9248979591836735}\n",
      "Threshold for outliers =  1\n",
      "Outliers number =  10\n",
      "289  ||  289\n",
      "0.4 0.30000000000000004 (0, 4, 5, 8, 11)\n",
      "{'test_accuracy': 0.824367816091954, 'test_precision': 0.8552589768033048, 'test_recall': 0.8971666666666667}\n",
      "Threshold for outliers =  2\n",
      "Outliers number =  0\n",
      "299  ||  299\n",
      "0.7000000000000001 0.1 (0, 1, 3, 4, 7, 8, 9, 11)\n",
      "{'test_accuracy': 0.8172222222222222, 'test_precision': 0.8531790074520375, 'test_recall': 0.8821311475409837}\n"
     ]
    }
   ],
   "source": [
    "from mlxtend.feature_selection import SequentialFeatureSelector as SFS\n",
    "#MultinomialNB cannot compute negative values.\n",
    "best_acc = 0\n",
    "under_fact = 0\n",
    "over_fact = 0\n",
    "threshold_fact = 0\n",
    "for threshold in range(0,3):\n",
    "    \n",
    "    X_clean, y_clean = remove_outliers(data,threshold)\n",
    "    X: np.ndarray = X_clean.values\n",
    "    y: np.ndarray = y_clean.values\n",
    "    labels: np.ndarray = pd.unique(y)\n",
    "    \n",
    "    undersample_range = [x*0.1 for x in range(11)]\n",
    "    oversample_range = [x*0.1 for x in range(11)]\n",
    "    clf = GaussianNB()\n",
    "    best_acc = 0\n",
    "    under_fact = 0\n",
    "    over_fact = 0\n",
    "    for undersample in undersample_range:\n",
    "        for oversample in oversample_range:\n",
    "            avg_scores = {'test_accuracy':0, 'test_precision':0, 'test_recall':0}\n",
    "            sfs1 = SFS(clf, \n",
    "                       k_features=(1,X.shape[1]), \n",
    "                       forward=False, # if forward = True then SFS otherwise SBS\n",
    "                       scoring='accuracy'\n",
    "                       ).fit(X,y)\n",
    "            \n",
    "            for ix in range(X.shape[1],0):\n",
    "                if ix not in sfs1.k_feature_idx_:\n",
    "                    X = np.delete(X,ix,1)\n",
    "                    \n",
    "            total=[0,0,0,0]\n",
    "            for ix in range(100):\n",
    "                trnX, tstX, trnY, tstY = train_test_split(X, y, train_size=0.7, stratify=y)\n",
    "                balanceX, balanceY = balancing(trnX, trnY, undersample, oversample)\n",
    "                clf.fit(balanceX, balanceY)\n",
    "                prd_trn = clf.predict(balanceX)\n",
    "                prd_tst = clf.predict(tstX)\n",
    "                cnf_mtx_tst = metrics.confusion_matrix(tstY, prd_tst, labels)\n",
    "                tn, fp, fn, tp = cnf_mtx_tst.ravel()\n",
    "                total[0]+=tp\n",
    "                total[1]+=tn\n",
    "                total[2]+=fp\n",
    "                total[3]+=fn\n",
    "                \n",
    "                avg_scores['test_accuracy'] = (total[0]+total[1])/(total[0]+total[1]+total[2]+total[3])\n",
    "                avg_scores['test_precision'] = total[0]/(total[0]+total[2])\n",
    "                avg_scores['test_recall'] = total[0]/(total[0]+total[3])\n",
    "\n",
    "\n",
    "            if avg_scores['test_accuracy'] > best_acc:\n",
    "                sfs_fact = sfs1.k_feature_idx_\n",
    "                under_fact = undersample\n",
    "                over_fact = oversample\n",
    "                best_avg_scores = avg_scores\n",
    "                best_acc = avg_scores['test_accuracy']\n",
    "            \n",
    "    print(under_fact, over_fact, sfs1.k_feature_idx_)\n",
    "    print(best_avg_scores)"
   ]
  },
  {
   "cell_type": "markdown",
   "metadata": {},
   "source": [
    "## Gaussian Z-Score (SBS)"
   ]
  },
  {
   "cell_type": "code",
   "execution_count": 22,
   "metadata": {},
   "outputs": [
    {
     "name": "stdout",
     "output_type": "stream",
     "text": [
      "Threshold for outliers =  0\n",
      "Outliers number =  85\n",
      "224  ||  224\n",
      "0.2 0.1 (0, 1, 3, 4, 5, 7, 8, 9, 10, 11)\n",
      "{'test_accuracy': 0.8380882352941177, 'test_precision': 0.8750246791707799, 'test_recall': 0.9044897959183673}\n",
      "Threshold for outliers =  1\n",
      "Outliers number =  10\n",
      "289  ||  289\n",
      "0.0 0.9 (0, 4, 5, 8, 10, 11)\n",
      "{'test_accuracy': 0.8087356321839081, 'test_precision': 0.851491569390402, 'test_recall': 0.8753333333333333}\n",
      "Threshold for outliers =  2\n",
      "Outliers number =  0\n",
      "299  ||  299\n",
      "0.2 0.8 (0, 4, 11)\n",
      "{'test_accuracy': 0.798, 'test_precision': 0.8315267884794054, 'test_recall': 0.8803278688524591}\n"
     ]
    }
   ],
   "source": [
    "from mlxtend.feature_selection import SequentialFeatureSelector as SFS\n",
    "#MultinomialNB cannot compute negative values.\n",
    "best_acc = 0\n",
    "under_fact = 0\n",
    "over_fact = 0\n",
    "threshold_fact = 0\n",
    "for threshold in range(0,3):\n",
    "    \n",
    "    X_clean, y_clean = remove_outliers(data,threshold)\n",
    "    transf = StandardScaler(with_mean=True, with_std=True, copy=True).fit(X_clean)\n",
    "    df_nr = pd.DataFrame(transf.transform(X_clean), columns= X_clean.columns)\n",
    "    norm_data_zscore = df_nr\n",
    "    norm_data_zscore.describe(include='all')\n",
    "    X: np.ndarray = norm_data_zscore.values\n",
    "    y: np.ndarray = y_clean.values\n",
    "    labels: np.ndarray = pd.unique(y)\n",
    "    \n",
    "    \n",
    "    undersample_range = [x*0.1 for x in range(11)]\n",
    "    oversample_range = [x*0.1 for x in range(11)]\n",
    "    clf = GaussianNB()\n",
    "    best_acc = 0\n",
    "    under_fact = 0\n",
    "    over_fact = 0\n",
    "    for undersample in undersample_range:\n",
    "        for oversample in oversample_range:\n",
    "            avg_scores = {'test_accuracy':0, 'test_precision':0, 'test_recall':0}\n",
    "            sfs1 = SFS(clf, \n",
    "                       k_features=(1,X.shape[1]), \n",
    "                       forward=False, # if forward = True then SFS otherwise SBS\n",
    "                       scoring='accuracy'\n",
    "                       ).fit(X,y)\n",
    "            \n",
    "            for ix in range(X.shape[1],0):\n",
    "                if ix not in sfs1.k_feature_idx_:\n",
    "                    X = np.delete(X,ix,1)\n",
    "                    \n",
    "            total=[0,0,0,0]\n",
    "            for ix in range(100):\n",
    "                trnX, tstX, trnY, tstY = train_test_split(X, y, train_size=0.7, stratify=y)\n",
    "                balanceX, balanceY = balancing(trnX, trnY, undersample, oversample)\n",
    "                clf.fit(balanceX, balanceY)\n",
    "                prd_trn = clf.predict(balanceX)\n",
    "                prd_tst = clf.predict(tstX)\n",
    "                cnf_mtx_tst = metrics.confusion_matrix(tstY, prd_tst, labels)\n",
    "                tn, fp, fn, tp = cnf_mtx_tst.ravel()\n",
    "                total[0]+=tp\n",
    "                total[1]+=tn\n",
    "                total[2]+=fp\n",
    "                total[3]+=fn\n",
    "                \n",
    "                avg_scores['test_accuracy'] = (total[0]+total[1])/(total[0]+total[1]+total[2]+total[3])\n",
    "                avg_scores['test_precision'] = total[0]/(total[0]+total[2])\n",
    "                avg_scores['test_recall'] = total[0]/(total[0]+total[3])\n",
    "\n",
    "\n",
    "            if avg_scores['test_accuracy'] > best_acc:\n",
    "                sfs_fact = sfs1.k_feature_idx_\n",
    "                under_fact = undersample\n",
    "                over_fact = oversample\n",
    "                best_avg_scores = avg_scores\n",
    "                best_acc = avg_scores['test_accuracy']\n",
    "            \n",
    "    print(under_fact, over_fact, sfs1.k_feature_idx_)\n",
    "    print(best_avg_scores)"
   ]
  },
  {
   "cell_type": "markdown",
   "metadata": {},
   "source": [
    "## Gaussian MinMax (SBS)"
   ]
  },
  {
   "cell_type": "code",
   "execution_count": 23,
   "metadata": {},
   "outputs": [
    {
     "name": "stdout",
     "output_type": "stream",
     "text": [
      "Threshold for outliers =  0\n",
      "Outliers number =  85\n",
      "224  ||  224\n",
      "0.30000000000000004 0.2 (0, 1, 3, 4, 5, 7, 8, 9, 10, 11)\n",
      "{'test_accuracy': 0.8351470588235295, 'test_precision': 0.876920007979254, 'test_recall': 0.8971428571428571}\n",
      "Threshold for outliers =  1\n",
      "Outliers number =  10\n",
      "289  ||  289\n",
      "0.4 0.8 (0, 4, 5, 8, 10, 11)\n",
      "{'test_accuracy': 0.8080459770114943, 'test_precision': 0.8529507662210629, 'test_recall': 0.872}\n",
      "Threshold for outliers =  2\n",
      "Outliers number =  0\n",
      "299  ||  299\n",
      "0.30000000000000004 0.8 (0, 4, 11)\n",
      "{'test_accuracy': 0.7963333333333333, 'test_precision': 0.8287871783017414, 'test_recall': 0.8816393442622951}\n"
     ]
    }
   ],
   "source": [
    "from mlxtend.feature_selection import SequentialFeatureSelector as SFS\n",
    "#MultinomialNB cannot compute negative values.\n",
    "best_acc = 0\n",
    "under_fact = 0\n",
    "over_fact = 0\n",
    "threshold_fact = 0\n",
    "for threshold in range(0,3):\n",
    "    \n",
    "    X_clean, y_clean = remove_outliers(data,threshold)\n",
    "    transf = MinMaxScaler(feature_range=(0, 1), copy=True).fit(X_clean)\n",
    "    df_nr = pd.DataFrame(transf.transform(X_clean), columns= X_clean.columns)\n",
    "    norm_data_minmax = df_nr\n",
    "    norm_data_minmax.describe(include='all')\n",
    "    y: np.ndarray = y_clean.values\n",
    "    X: np.ndarray = norm_data_minmax.values\n",
    "    labels: np.ndarray = pd.unique(y)\n",
    "    \n",
    "    \n",
    "    undersample_range = [x*0.1 for x in range(11)]\n",
    "    oversample_range = [x*0.1 for x in range(11)]\n",
    "    clf = GaussianNB()\n",
    "    best_acc = 0\n",
    "    under_fact = 0\n",
    "    over_fact = 0\n",
    "    for undersample in undersample_range:\n",
    "        for oversample in oversample_range:\n",
    "            avg_scores = {'test_accuracy':0, 'test_precision':0, 'test_recall':0}\n",
    "            sfs1 = SFS(clf, \n",
    "                       k_features=(1,X.shape[1]), \n",
    "                       forward=False, # if forward = True then SFS otherwise SBS\n",
    "                       scoring='accuracy'\n",
    "                       ).fit(X,y)\n",
    "            \n",
    "            for ix in range(X.shape[1],0):\n",
    "                if ix not in sfs1.k_feature_idx_:\n",
    "                    X = np.delete(X,ix,1)\n",
    "                    \n",
    "            total=[0,0,0,0]\n",
    "            for ix in range(100):\n",
    "                trnX, tstX, trnY, tstY = train_test_split(X, y, train_size=0.7, stratify=y)\n",
    "                balanceX, balanceY = balancing(trnX, trnY, undersample, oversample)\n",
    "                clf.fit(balanceX, balanceY)\n",
    "                prd_trn = clf.predict(balanceX)\n",
    "                prd_tst = clf.predict(tstX)\n",
    "                cnf_mtx_tst = metrics.confusion_matrix(tstY, prd_tst, labels)\n",
    "                tn, fp, fn, tp = cnf_mtx_tst.ravel()\n",
    "                total[0]+=tp\n",
    "                total[1]+=tn\n",
    "                total[2]+=fp\n",
    "                total[3]+=fn\n",
    "                \n",
    "                avg_scores['test_accuracy'] = (total[0]+total[1])/(total[0]+total[1]+total[2]+total[3])\n",
    "                avg_scores['test_precision'] = total[0]/(total[0]+total[2])\n",
    "                avg_scores['test_recall'] = total[0]/(total[0]+total[3])\n",
    "\n",
    "\n",
    "            if avg_scores['test_accuracy'] > best_acc:\n",
    "                sfs_fact = sfs1.k_feature_idx_\n",
    "                under_fact = undersample\n",
    "                over_fact = oversample\n",
    "                best_avg_scores = avg_scores\n",
    "                best_acc = avg_scores['test_accuracy']\n",
    "            \n",
    "    print(under_fact, over_fact, sfs1.k_feature_idx_)\n",
    "    print(best_avg_scores)"
   ]
  }
 ],
 "metadata": {
  "kernelspec": {
   "display_name": "Python 3",
   "language": "python",
   "name": "python3"
  },
  "language_info": {
   "codemirror_mode": {
    "name": "ipython",
    "version": 3
   },
   "file_extension": ".py",
   "mimetype": "text/x-python",
   "name": "python",
   "nbconvert_exporter": "python",
   "pygments_lexer": "ipython3",
   "version": "3.8.3"
  }
 },
 "nbformat": 4,
 "nbformat_minor": 4
}
