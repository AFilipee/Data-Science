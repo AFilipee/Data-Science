{
 "cells": [
  {
   "cell_type": "markdown",
   "metadata": {},
   "source": [
    "# Dataset *qsar_oral_toxicity*"
   ]
  },
  {
   "cell_type": "markdown",
   "metadata": {},
   "source": [
    "## Data Sparsity (for Sampled Numeric Variables)"
   ]
  },
  {
   "cell_type": "code",
   "execution_count": null,
   "metadata": {},
   "outputs": [
    {
     "data": {
      "text/plain": [
       "<Figure size 600x450 with 0 Axes>"
      ]
     },
     "metadata": {},
     "output_type": "display_data"
    }
   ],
   "source": [
    "import pandas as pd\n",
    "import matplotlib.pyplot as plt\n",
    "from pandas.plotting import register_matplotlib_converters\n",
    "import config as cfg\n",
    "import seaborn as sns\n",
    "\n",
    "register_matplotlib_converters()\n",
    "data = pd.read_csv('datasets/qsar_oral_toxicity_v2.csv', parse_dates=True, infer_datetime_format=True)\n",
    "\n",
    "for i in range(1,1015):\n",
    "    data = data.drop('MOL_FIG'+ str(i), 1)\n",
    "    \n",
    "columns = data.select_dtypes(include='number').columns\n",
    "rows, cols = len(columns)-1, len(columns)-1\n",
    "plt.figure()\n",
    "fig, axs = plt.subplots(rows, cols, figsize=(cols*4, rows*4), squeeze=False)\n",
    "for i in range(len(columns)):\n",
    "    var1 = columns[i]\n",
    "    for j in range(i+1, len(columns)):\n",
    "        var2 = columns[j]\n",
    "        axs[i, j-1].set_title(\"%s x %s\"%(var1,var2))\n",
    "        axs[i, j-1].set_xlabel(var1)\n",
    "        axs[i, j-1].set_ylabel(var2)\n",
    "        axs[i, j-1].scatter(data[var1], data[var2])\n",
    "plt.show()"
   ]
  },
  {
   "cell_type": "markdown",
   "metadata": {},
   "source": [
    "## Correlation Analysis (for Sampled Numeric Variables)"
   ]
  },
  {
   "cell_type": "code",
   "execution_count": null,
   "metadata": {},
   "outputs": [],
   "source": [
    "data = pd.read_csv('datasets/qsar_oral_toxicity_v2.csv', parse_dates=True, infer_datetime_format=True)\n",
    "for i in range(11,1015):\n",
    "    data = data.drop('MOL_FIG'+ str(i), 1)\n",
    "\n",
    "fig = plt.figure(figsize=[12, 12])\n",
    "sns.set(font_scale=1.4) \n",
    "corr_mtx = data.corr()\n",
    "sns.heatmap(corr_mtx, xticklabels=corr_mtx.columns, yticklabels=corr_mtx.columns, annot=True, cmap='Blues')\n",
    "plt.title('Correlation \"analysis')\n",
    "plt.show()"
   ]
  },
  {
   "cell_type": "markdown",
   "metadata": {},
   "source": [
    "Although we cannot observe each single value we can conclude, from the shadow of blue of each square that there is no correlation between the sampled variables and therefore none of them is redundant. At least, not among this set."
   ]
  },
  {
   "cell_type": "code",
   "execution_count": null,
   "metadata": {},
   "outputs": [],
   "source": []
  }
 ],
 "metadata": {
  "kernelspec": {
   "display_name": "Python 3",
   "language": "python",
   "name": "python3"
  },
  "language_info": {
   "codemirror_mode": {
    "name": "ipython",
    "version": 3
   },
   "file_extension": ".py",
   "mimetype": "text/x-python",
   "name": "python",
   "nbconvert_exporter": "python",
   "pygments_lexer": "ipython3",
   "version": "3.8.3"
  }
 },
 "nbformat": 4,
 "nbformat_minor": 4
}
