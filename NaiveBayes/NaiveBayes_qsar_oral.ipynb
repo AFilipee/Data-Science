{
 "cells": [
  {
   "cell_type": "markdown",
   "metadata": {},
   "source": [
    "# Training strategies"
   ]
  },
  {
   "cell_type": "code",
   "execution_count": 1,
   "metadata": {},
   "outputs": [
    {
     "name": "stdout",
     "output_type": "stream",
     "text": [
      "negative    8251\n",
      "positive     741\n",
      "Name: IS_TOXIC, dtype: int64\n"
     ]
    }
   ],
   "source": [
    "import copy \n",
    "import numpy as np\n",
    "import pandas as pd\n",
    "import matplotlib.pyplot as plt\n",
    "import ds_functions as ds\n",
    "from imblearn.under_sampling import EditedNearestNeighbours\n",
    "from sklearn.model_selection import train_test_split\n",
    "\n",
    "data: pd.DataFrame = pd.read_csv('datasets/qsar_oral_toxicity_v2.csv')\n",
    "original_data = copy.deepcopy(data)\n",
    "target = 'IS_TOXIC'\n",
    "positive = 'positive'\n",
    "negative = 'negative'\n",
    "print(data['IS_TOXIC'].value_counts())\n",
    "values = {'Original': [len(data[data[target] == positive]), len(data[data[target] == negative])]}\n",
    "y: np.ndarray = data.pop('IS_TOXIC').values\n",
    "X: np.ndarray = data.values\n",
    "labels: np.ndarray = pd.unique(y)"
   ]
  },
  {
   "cell_type": "code",
   "execution_count": 2,
   "metadata": {},
   "outputs": [
    {
     "data": {
      "image/png": "[encoded data removed]",
      "text/plain": [
       "<Figure size 600x450 with 1 Axes>"
      ]
     },
     "metadata": {
      "needs_background": "dark"
     },
     "output_type": "display_data"
    },
    {
     "name": "stdout",
     "output_type": "stream",
     "text": [
      "IS_TOXIC = Positive Minority class: 741\n",
      "IS_TOXIC = Negative Majority class: 8251\n",
      "Proportion: 0.09 : 1\n"
     ]
    }
   ],
   "source": [
    "target_count = original_data['IS_TOXIC'].value_counts()\n",
    "plt.figure()\n",
    "plt.title('Class balance')\n",
    "plt.bar(target_count.index, target_count.values)\n",
    "plt.show()\n",
    "\n",
    "min_class = target_count.idxmin()\n",
    "ind_min_class = target_count.index.get_loc(min_class)\n",
    "\n",
    "print('IS_TOXIC = Positive Minority class:', target_count[ind_min_class])\n",
    "print('IS_TOXIC = Negative Majority class:', target_count[1-ind_min_class])\n",
    "print('Proportion:', round(target_count[ind_min_class] / target_count[1-ind_min_class], 2), ': 1')"
   ]
  },
  {
   "cell_type": "markdown",
   "metadata": {},
   "source": [
    "Given the prior proportion, we consider that a Data Balancing Technique is needed."
   ]
  },
  {
   "cell_type": "markdown",
   "metadata": {},
   "source": [
    "# Unbalanced Naive Bayes"
   ]
  },
  {
   "cell_type": "code",
   "execution_count": 3,
   "metadata": {},
   "outputs": [],
   "source": [
    "import numpy as np\n",
    "import pandas as pd\n",
    "import matplotlib.pyplot as plt\n",
    "from sklearn.model_selection import train_test_split\n",
    "import sklearn.metrics as metrics\n",
    "from sklearn.naive_bayes import *\n",
    "import ds_functions as ds\n",
    "\n",
    "data: pd.DataFrame = pd.read_csv('datasets/qsar_oral_toxicity_v2.csv')\n",
    "y: np.ndarray = data.pop('IS_TOXIC').values\n",
    "X: np.ndarray = data.values\n",
    "labels = pd.unique(y)"
   ]
  },
  {
   "cell_type": "markdown",
   "metadata": {},
   "source": [
    "## Multinomial"
   ]
  },
  {
   "cell_type": "code",
   "execution_count": 5,
   "metadata": {
    "scrolled": false
   },
   "outputs": [
    {
     "name": "stdout",
     "output_type": "stream",
     "text": [
      "{'test_accuracy': 0.8543587842846553, 'test_precision': 0.3073872087258304, 'test_recall': 0.6144144144144145}\n"
     ]
    }
   ],
   "source": [
    "clf = MultinomialNB()\n",
    "avg_scores = {'test_accuracy':0, 'test_precision':0, 'test_recall':0}\n",
    "\n",
    "total=[0,0,0,0]\n",
    "for ix in range(100):\n",
    "    trnX, tstX, trnY, tstY = train_test_split(X, y, train_size=0.7, stratify=y)\n",
    "    clf.fit(trnX, trnY)\n",
    "    prd_trn = clf.predict(trnX)\n",
    "    prd_tst = clf.predict(tstX)\n",
    "    cnf_mtx_tst = metrics.confusion_matrix(tstY, prd_tst, labels)\n",
    "    tn, fp, fn, tp = cnf_mtx_tst.ravel()\n",
    "    total[0]+=tp\n",
    "    total[1]+=tn\n",
    "    total[2]+=fp\n",
    "    total[3]+=fn\n",
    "\n",
    "\n",
    "avg_scores['test_accuracy'] = (total[0]+total[1])/(total[0]+total[1]+total[2]+total[3])\n",
    "avg_scores['test_precision'] = total[0]/(total[0]+total[2])\n",
    "avg_scores['test_recall'] = total[0]/(total[0]+total[3])\n",
    "\n",
    "print(avg_scores)"
   ]
  },
  {
   "cell_type": "markdown",
   "metadata": {},
   "source": [
    "## Gaussian"
   ]
  },
  {
   "cell_type": "code",
   "execution_count": 6,
   "metadata": {},
   "outputs": [
    {
     "name": "stdout",
     "output_type": "stream",
     "text": [
      "{'test_accuracy': 0.7574499629355078, 'test_precision': 0.2092522861753631, 'test_recall': 0.7009009009009008}\n"
     ]
    }
   ],
   "source": [
    "clf = GaussianNB()\n",
    "avg_scores = {'test_accuracy':0, 'test_precision':0, 'test_recall':0}\n",
    "\n",
    "total=[0,0,0,0]\n",
    "for ix in range(100):\n",
    "    trnX, tstX, trnY, tstY = train_test_split(X, y, train_size=0.7, stratify=y)\n",
    "    clf.fit(trnX, trnY)\n",
    "    prd_trn = clf.predict(trnX)\n",
    "    prd_tst = clf.predict(tstX)\n",
    "    cnf_mtx_tst = metrics.confusion_matrix(tstY, prd_tst, labels)\n",
    "    tn, fp, fn, tp = cnf_mtx_tst.ravel()\n",
    "    total[0]+=tp\n",
    "    total[1]+=tn\n",
    "    total[2]+=fp\n",
    "    total[3]+=fn\n",
    "\n",
    "\n",
    "avg_scores['test_accuracy'] = (total[0]+total[1])/(total[0]+total[1]+total[2]+total[3])\n",
    "avg_scores['test_precision'] = total[0]/(total[0]+total[2])\n",
    "avg_scores['test_recall'] = total[0]/(total[0]+total[3])\n",
    "\n",
    "print(avg_scores)"
   ]
  },
  {
   "cell_type": "markdown",
   "metadata": {},
   "source": [
    "## Bernoulli"
   ]
  },
  {
   "cell_type": "code",
   "execution_count": 7,
   "metadata": {},
   "outputs": [
    {
     "name": "stdout",
     "output_type": "stream",
     "text": [
      "{'test_accuracy': 0.7876945885841364, 'test_precision': 0.22696139476961394, 'test_recall': 0.6567567567567567}\n"
     ]
    }
   ],
   "source": [
    "clf = BernoulliNB()\n",
    "avg_scores = {'test_accuracy':0, 'test_precision':0, 'test_recall':0}\n",
    "\n",
    "total=[0,0,0,0]\n",
    "for ix in range(100):\n",
    "    trnX, tstX, trnY, tstY = train_test_split(X, y, train_size=0.7, stratify=y)\n",
    "    clf.fit(trnX, trnY)\n",
    "    prd_trn = clf.predict(trnX)\n",
    "    prd_tst = clf.predict(tstX)\n",
    "    cnf_mtx_tst = metrics.confusion_matrix(tstY, prd_tst, labels)\n",
    "    tn, fp, fn, tp = cnf_mtx_tst.ravel()\n",
    "    total[0]+=tp\n",
    "    total[1]+=tn\n",
    "    total[2]+=fp\n",
    "    total[3]+=fn\n",
    "\n",
    "\n",
    "avg_scores['test_accuracy'] = (total[0]+total[1])/(total[0]+total[1]+total[2]+total[3])\n",
    "avg_scores['test_precision'] = total[0]/(total[0]+total[2])\n",
    "avg_scores['test_recall'] = total[0]/(total[0]+total[3])\n",
    "\n",
    "print(avg_scores)"
   ]
  },
  {
   "cell_type": "markdown",
   "metadata": {},
   "source": [
    "# Preparing data for balancing"
   ]
  },
  {
   "cell_type": "code",
   "execution_count": 4,
   "metadata": {},
   "outputs": [],
   "source": [
    "data: pd.DataFrame = pd.read_csv('datasets/qsar_oral_toxicity_v2.csv')\n",
    "y: np.ndarray = data.pop('IS_TOXIC').values\n",
    "X: np.ndarray = data.values\n",
    "labels = pd.unique(y)"
   ]
  },
  {
   "cell_type": "code",
   "execution_count": 5,
   "metadata": {},
   "outputs": [],
   "source": [
    "import random\n",
    "def balancing(trnX, trnY, undersample, oversample):\n",
    "    #undersample, oversample = 1,0 => undersample\n",
    "    #undersample, oversample = 0,1 => oversample\n",
    "    unique, counts = np.unique(trnY, return_counts=True)\n",
    "    \n",
    "    min_positive_counts = min(counts)\n",
    "    min_negative_counts = max(counts)+(min(counts)-max(counts))*undersample\n",
    "    newtrnY: np.ndarray = []\n",
    "    newtrnX: np.ndarray = []\n",
    "    for idx in range(len(trnY)):\n",
    "        if min_positive_counts > 0 and trnY[idx] == 'positive':\n",
    "            newtrnY.append(trnY[idx])\n",
    "            newtrnX.append(trnX[idx])\n",
    "            min_positive_counts -= 1\n",
    "        elif min_negative_counts > 0 and trnY[idx] == 'negative':\n",
    "            newtrnY.append(trnY[idx])\n",
    "            newtrnX.append(trnX[idx])\n",
    "            min_negative_counts -= 1\n",
    "            \n",
    "    unique1, counts1 = np.unique(newtrnY, return_counts=True)\n",
    "    \n",
    "    max_positive_counts = min(counts1)+(max(counts1)-min(counts1))*oversample\n",
    "    max_negative_counts = max(counts1)\n",
    "    finaltrnY: np.ndarray = []\n",
    "    finaltrnX: np.ndarray = []\n",
    "    negX: np.ndarray = []\n",
    "    posX: np.ndarray = []\n",
    "    negY: np.ndarray = []\n",
    "    posY: np.ndarray = []\n",
    "        \n",
    "    for idx in range(len(newtrnY)):\n",
    "        if newtrnY[idx] == 'negative':\n",
    "            finaltrnY.append(newtrnY[idx])\n",
    "            negY.append(newtrnY[idx])\n",
    "            finaltrnX.append(newtrnX[idx])\n",
    "            negX.append(newtrnX[idx])\n",
    "            max_negative_counts -= 1\n",
    "        elif newtrnY[idx] == 'positive':\n",
    "            finaltrnY.append(newtrnY[idx])\n",
    "            posY.append(newtrnY[idx])\n",
    "            finaltrnX.append(newtrnX[idx])\n",
    "            posX.append(newtrnX[idx])\n",
    "            max_positive_counts -= 1\n",
    "\n",
    "    random.seed()\n",
    "\n",
    "    while max_negative_counts > 0:\n",
    "        rand_num = random.randint(0,len(negX)-1)\n",
    "        finaltrnX.append(negX[rand_num])\n",
    "        finaltrnY.append(negY[rand_num])\n",
    "        max_negative_counts -= 1\n",
    "\n",
    "    while max_positive_counts > 0:\n",
    "        rand_num = random.randint(0,len(posX)-1)\n",
    "        finaltrnX.append(posX[rand_num])\n",
    "        finaltrnY.append(posY[rand_num])\n",
    "        max_positive_counts -= 1\n",
    "    \n",
    "    return finaltrnX, finaltrnY\n",
    "    "
   ]
  },
  {
   "cell_type": "markdown",
   "metadata": {},
   "source": [
    "# UnderSample Naive Bayes"
   ]
  },
  {
   "cell_type": "markdown",
   "metadata": {},
   "source": [
    "## Multinomial"
   ]
  },
  {
   "cell_type": "code",
   "execution_count": 12,
   "metadata": {
    "scrolled": true
   },
   "outputs": [
    {
     "name": "stdout",
     "output_type": "stream",
     "text": [
      "{'test_accuracy': 0.7714010378057821, 'test_precision': 0.22044076822842898, 'test_recall': 0.701081081081081}\n"
     ]
    }
   ],
   "source": [
    "clf = MultinomialNB()\n",
    "avg_scores = {'test_accuracy':0, 'test_precision':0, 'test_recall':0}\n",
    "\n",
    "total=[0,0,0,0]\n",
    "for ix in range(100):\n",
    "    trnX, tstX, trnY, tstY = train_test_split(X, y, train_size=0.7, stratify=y)\n",
    "    undertrnX, undertrnY = balancing(trnX,trnY,1,0)\n",
    "    clf.fit(undertrnX, undertrnY)\n",
    "    prd_trn = clf.predict(undertrnX)\n",
    "    prd_tst = clf.predict(tstX)\n",
    "    cnf_mtx_tst = metrics.confusion_matrix(tstY, prd_tst, labels)\n",
    "    tn, fp, fn, tp = cnf_mtx_tst.ravel()\n",
    "    total[0]+=tp\n",
    "    total[1]+=tn\n",
    "    total[2]+=fp\n",
    "    total[3]+=fn\n",
    "\n",
    "\n",
    "avg_scores['test_accuracy'] = (total[0]+total[1])/(total[0]+total[1]+total[2]+total[3])\n",
    "avg_scores['test_precision'] = total[0]/(total[0]+total[2])\n",
    "avg_scores['test_recall'] = total[0]/(total[0]+total[3])\n",
    "\n",
    "print(avg_scores)"
   ]
  },
  {
   "cell_type": "markdown",
   "metadata": {},
   "source": [
    "## Gaussian"
   ]
  },
  {
   "cell_type": "code",
   "execution_count": 13,
   "metadata": {
    "scrolled": true
   },
   "outputs": [
    {
     "name": "stdout",
     "output_type": "stream",
     "text": [
      "{'test_accuracy': 0.7201927353595255, 'test_precision': 0.1893102000839513, 'test_recall': 0.7313513513513513}\n"
     ]
    }
   ],
   "source": [
    "clf = GaussianNB()\n",
    "avg_scores = {'test_accuracy':0, 'test_precision':0, 'test_recall':0}\n",
    "\n",
    "total=[0,0,0,0]\n",
    "for ix in range(100):\n",
    "    trnX, tstX, trnY, tstY = train_test_split(X, y, train_size=0.7, stratify=y)\n",
    "    undertrnX, undertrnY = balancing(trnX,trnY,1,0)\n",
    "    clf.fit(undertrnX, undertrnY)\n",
    "    prd_trn = clf.predict(undertrnX)\n",
    "    prd_tst = clf.predict(tstX)\n",
    "    cnf_mtx_tst = metrics.confusion_matrix(tstY, prd_tst, labels)\n",
    "    tn, fp, fn, tp = cnf_mtx_tst.ravel()\n",
    "    total[0]+=tp\n",
    "    total[1]+=tn\n",
    "    total[2]+=fp\n",
    "    total[3]+=fn\n",
    "\n",
    "\n",
    "avg_scores['test_accuracy'] = (total[0]+total[1])/(total[0]+total[1]+total[2]+total[3])\n",
    "avg_scores['test_precision'] = total[0]/(total[0]+total[2])\n",
    "avg_scores['test_recall'] = total[0]/(total[0]+total[3])\n",
    "\n",
    "print(avg_scores)"
   ]
  },
  {
   "cell_type": "markdown",
   "metadata": {},
   "source": [
    "## Bernoulli"
   ]
  },
  {
   "cell_type": "code",
   "execution_count": 14,
   "metadata": {
    "scrolled": true
   },
   "outputs": [
    {
     "name": "stdout",
     "output_type": "stream",
     "text": [
      "{'test_accuracy': 0.7063528539659006, 'test_precision': 0.18007495175261434, 'test_recall': 0.7229279279279279}\n"
     ]
    }
   ],
   "source": [
    "clf = BernoulliNB()\n",
    "avg_scores = {'test_accuracy':0, 'test_precision':0, 'test_recall':0}\n",
    "\n",
    "total=[0,0,0,0]\n",
    "for ix in range(100):\n",
    "    trnX, tstX, trnY, tstY = train_test_split(X, y, train_size=0.7, stratify=y)\n",
    "    undertrnX, undertrnY = balancing(trnX,trnY,1,0)\n",
    "    clf.fit(undertrnX, undertrnY)\n",
    "    prd_trn = clf.predict(undertrnX)\n",
    "    prd_tst = clf.predict(tstX)\n",
    "    cnf_mtx_tst = metrics.confusion_matrix(tstY, prd_tst, labels)\n",
    "    tn, fp, fn, tp = cnf_mtx_tst.ravel()\n",
    "    total[0]+=tp\n",
    "    total[1]+=tn\n",
    "    total[2]+=fp\n",
    "    total[3]+=fn\n",
    "\n",
    "\n",
    "avg_scores['test_accuracy'] = (total[0]+total[1])/(total[0]+total[1]+total[2]+total[3])\n",
    "avg_scores['test_precision'] = total[0]/(total[0]+total[2])\n",
    "avg_scores['test_recall'] = total[0]/(total[0]+total[3])\n",
    "\n",
    "print(avg_scores)"
   ]
  },
  {
   "cell_type": "markdown",
   "metadata": {},
   "source": [
    "# OverSample Naive Bayes"
   ]
  },
  {
   "cell_type": "markdown",
   "metadata": {},
   "source": [
    "## Multinomial"
   ]
  },
  {
   "cell_type": "code",
   "execution_count": 15,
   "metadata": {
    "scrolled": true
   },
   "outputs": [
    {
     "name": "stdout",
     "output_type": "stream",
     "text": [
      "{'test_accuracy': 0.7953817642698295, 'test_precision': 0.2401511572980633, 'test_recall': 0.687027027027027}\n"
     ]
    }
   ],
   "source": [
    "clf = MultinomialNB()\n",
    "avg_scores = {'test_accuracy':0, 'test_precision':0, 'test_recall':0}\n",
    "\n",
    "total=[0,0,0,0]\n",
    "for ix in range(100):\n",
    "    trnX, tstX, trnY, tstY = train_test_split(X, y, train_size=0.7, stratify=y)\n",
    "    overtrnX, overtrnY = balancing(trnX, trnY, 0, 1)\n",
    "    clf.fit(overtrnX, overtrnY)\n",
    "    prd_trn = clf.predict(overtrnX)\n",
    "    prd_tst = clf.predict(tstX)\n",
    "    cnf_mtx_tst = metrics.confusion_matrix(tstY, prd_tst, labels)\n",
    "    tn, fp, fn, tp = cnf_mtx_tst.ravel()\n",
    "    total[0]+=tp\n",
    "    total[1]+=tn\n",
    "    total[2]+=fp\n",
    "    total[3]+=fn\n",
    "\n",
    "\n",
    "avg_scores['test_accuracy'] = (total[0]+total[1])/(total[0]+total[1]+total[2]+total[3])\n",
    "avg_scores['test_precision'] = total[0]/(total[0]+total[2])\n",
    "avg_scores['test_recall'] = total[0]/(total[0]+total[3])\n",
    "\n",
    "print(avg_scores)"
   ]
  },
  {
   "cell_type": "markdown",
   "metadata": {},
   "source": [
    "## Gaussian"
   ]
  },
  {
   "cell_type": "code",
   "execution_count": 16,
   "metadata": {
    "scrolled": true
   },
   "outputs": [
    {
     "name": "stdout",
     "output_type": "stream",
     "text": [
      "{'test_accuracy': 0.7481616011860638, 'test_precision': 0.20285543546040324, 'test_recall': 0.7033783783783784}\n"
     ]
    }
   ],
   "source": [
    "clf = GaussianNB()\n",
    "avg_scores = {'test_accuracy':0, 'test_precision':0, 'test_recall':0}\n",
    "\n",
    "total=[0,0,0,0]\n",
    "for ix in range(100):\n",
    "    trnX, tstX, trnY, tstY = train_test_split(X, y, train_size=0.7, stratify=y)\n",
    "    overtrnX, overtrnY = balancing(trnX, trnY, 0, 1)\n",
    "    clf.fit(overtrnX, overtrnY)\n",
    "    prd_trn = clf.predict(overtrnX)\n",
    "    prd_tst = clf.predict(tstX)\n",
    "    cnf_mtx_tst = metrics.confusion_matrix(tstY, prd_tst, labels)\n",
    "    tn, fp, fn, tp = cnf_mtx_tst.ravel()\n",
    "    total[0]+=tp\n",
    "    total[1]+=tn\n",
    "    total[2]+=fp\n",
    "    total[3]+=fn\n",
    "\n",
    "\n",
    "avg_scores['test_accuracy'] = (total[0]+total[1])/(total[0]+total[1]+total[2]+total[3])\n",
    "avg_scores['test_precision'] = total[0]/(total[0]+total[2])\n",
    "avg_scores['test_recall'] = total[0]/(total[0]+total[3])\n",
    "\n",
    "print(avg_scores)"
   ]
  },
  {
   "cell_type": "markdown",
   "metadata": {},
   "source": [
    "## Bernoulli"
   ]
  },
  {
   "cell_type": "code",
   "execution_count": 17,
   "metadata": {
    "scrolled": true
   },
   "outputs": [
    {
     "name": "stdout",
     "output_type": "stream",
     "text": [
      "{'test_accuracy': 0.724822090437361, 'test_precision': 0.18818228661130484, 'test_recall': 0.7073873873873874}\n"
     ]
    }
   ],
   "source": [
    "clf = BernoulliNB()\n",
    "avg_scores = {'test_accuracy':0, 'test_precision':0, 'test_recall':0}\n",
    "\n",
    "total=[0,0,0,0]\n",
    "for ix in range(100):\n",
    "    trnX, tstX, trnY, tstY = train_test_split(X, y, train_size=0.7, stratify=y)\n",
    "    overtrnX, overtrnY = balancing(trnX, trnY, 0, 1)\n",
    "    clf.fit(overtrnX, overtrnY)\n",
    "    prd_trn = clf.predict(overtrnX)\n",
    "    prd_tst = clf.predict(tstX)\n",
    "    cnf_mtx_tst = metrics.confusion_matrix(tstY, prd_tst, labels)\n",
    "    tn, fp, fn, tp = cnf_mtx_tst.ravel()\n",
    "    total[0]+=tp\n",
    "    total[1]+=tn\n",
    "    total[2]+=fp\n",
    "    total[3]+=fn\n",
    "\n",
    "\n",
    "avg_scores['test_accuracy'] = (total[0]+total[1])/(total[0]+total[1]+total[2]+total[3])\n",
    "avg_scores['test_precision'] = total[0]/(total[0]+total[2])\n",
    "avg_scores['test_recall'] = total[0]/(total[0]+total[3])\n",
    "\n",
    "print(avg_scores)"
   ]
  },
  {
   "cell_type": "markdown",
   "metadata": {},
   "source": [
    "# SMOTE Naive Bayes"
   ]
  },
  {
   "cell_type": "code",
   "execution_count": 5,
   "metadata": {
    "scrolled": true
   },
   "outputs": [],
   "source": [
    "from imblearn.over_sampling import SMOTE\n",
    "smote = SMOTE(sampling_strategy='minority', random_state=42)"
   ]
  },
  {
   "cell_type": "markdown",
   "metadata": {},
   "source": [
    "## Multinomial"
   ]
  },
  {
   "cell_type": "code",
   "execution_count": 19,
   "metadata": {
    "scrolled": true
   },
   "outputs": [
    {
     "name": "stdout",
     "output_type": "stream",
     "text": [
      "{'test_accuracy': 0.8610748702742772, 'test_precision': 0.3089845507724614, 'test_recall': 0.5567567567567567}\n"
     ]
    }
   ],
   "source": [
    "clf = MultinomialNB()\n",
    "avg_scores = {'test_accuracy':0, 'test_precision':0, 'test_recall':0}\n",
    "\n",
    "total=[0,0,0,0]\n",
    "for ix in range(100):\n",
    "    trnX, tstX, trnY, tstY = train_test_split(X, y, train_size=0.7, stratify=y)\n",
    "    smote_X, smote_y = smote.fit_sample(trnX, trnY)\n",
    "    clf.fit(smote_X, smote_y)\n",
    "    prd_trn = clf.predict(smote_X)\n",
    "    prd_tst = clf.predict(tstX)\n",
    "    cnf_mtx_tst = metrics.confusion_matrix(tstY, prd_tst, labels)\n",
    "    tn, fp, fn, tp = cnf_mtx_tst.ravel()\n",
    "    total[0]+=tp\n",
    "    total[1]+=tn\n",
    "    total[2]+=fp\n",
    "    total[3]+=fn\n",
    "\n",
    "\n",
    "avg_scores['test_accuracy'] = (total[0]+total[1])/(total[0]+total[1]+total[2]+total[3])\n",
    "avg_scores['test_precision'] = total[0]/(total[0]+total[2])\n",
    "avg_scores['test_recall'] = total[0]/(total[0]+total[3])\n",
    "\n",
    "print(avg_scores)"
   ]
  },
  {
   "cell_type": "markdown",
   "metadata": {},
   "source": [
    "## Gaussian"
   ]
  },
  {
   "cell_type": "code",
   "execution_count": 20,
   "metadata": {
    "scrolled": true
   },
   "outputs": [
    {
     "name": "stdout",
     "output_type": "stream",
     "text": [
      "{'test_accuracy': 0.8087694588584137, 'test_precision': 0.17052994978479197, 'test_recall': 0.34265765765765765}\n"
     ]
    }
   ],
   "source": [
    "clf = GaussianNB()\n",
    "avg_scores = {'test_accuracy':0, 'test_precision':0, 'test_recall':0}\n",
    "\n",
    "total=[0,0,0,0]\n",
    "for ix in range(100):\n",
    "    trnX, tstX, trnY, tstY = train_test_split(X, y, train_size=0.7, stratify=y)\n",
    "    smote_X, smote_y = smote.fit_sample(trnX, trnY)\n",
    "    clf.fit(smote_X, smote_y)\n",
    "    prd_trn = clf.predict(smote_X)\n",
    "    prd_tst = clf.predict(tstX)\n",
    "    cnf_mtx_tst = metrics.confusion_matrix(tstY, prd_tst, labels)\n",
    "    tn, fp, fn, tp = cnf_mtx_tst.ravel()\n",
    "    total[0]+=tp\n",
    "    total[1]+=tn\n",
    "    total[2]+=fp\n",
    "    total[3]+=fn\n",
    "\n",
    "\n",
    "avg_scores['test_accuracy'] = (total[0]+total[1])/(total[0]+total[1]+total[2]+total[3])\n",
    "avg_scores['test_precision'] = total[0]/(total[0]+total[2])\n",
    "avg_scores['test_recall'] = total[0]/(total[0]+total[3])\n",
    "\n",
    "print(avg_scores)"
   ]
  },
  {
   "cell_type": "markdown",
   "metadata": {},
   "source": [
    "## Bernoulli"
   ]
  },
  {
   "cell_type": "code",
   "execution_count": 6,
   "metadata": {
    "scrolled": true
   },
   "outputs": [
    {
     "name": "stdout",
     "output_type": "stream",
     "text": [
      "{'test_accuracy': 0.7142105263157895, 'test_precision': 0.16437234094576753, 'test_recall': 0.6056306306306306}\n"
     ]
    }
   ],
   "source": [
    "clf = BernoulliNB()\n",
    "avg_scores = {'test_accuracy':0, 'test_precision':0, 'test_recall':0}\n",
    "\n",
    "total=[0,0,0,0]\n",
    "for ix in range(100):\n",
    "    trnX, tstX, trnY, tstY = train_test_split(X, y, train_size=0.7, stratify=y)\n",
    "    smote_X, smote_y = smote.fit_sample(trnX, trnY)\n",
    "    clf.fit(smote_X, smote_y)\n",
    "    prd_trn = clf.predict(smote_X)\n",
    "    prd_tst = clf.predict(tstX)\n",
    "    cnf_mtx_tst = metrics.confusion_matrix(tstY, prd_tst, labels)\n",
    "    tn, fp, fn, tp = cnf_mtx_tst.ravel()\n",
    "    total[0]+=tp\n",
    "    total[1]+=tn\n",
    "    total[2]+=fp\n",
    "    total[3]+=fn\n",
    "\n",
    "\n",
    "avg_scores['test_accuracy'] = (total[0]+total[1])/(total[0]+total[1]+total[2]+total[3])\n",
    "avg_scores['test_precision'] = total[0]/(total[0]+total[2])\n",
    "avg_scores['test_recall'] = total[0]/(total[0]+total[3])\n",
    "\n",
    "print(avg_scores)"
   ]
  },
  {
   "cell_type": "markdown",
   "metadata": {},
   "source": [
    "# Combining OverSample and UnderSample"
   ]
  },
  {
   "cell_type": "markdown",
   "metadata": {},
   "source": [
    "## Multinomial"
   ]
  },
  {
   "cell_type": "code",
   "execution_count": 9,
   "metadata": {},
   "outputs": [
    {
     "name": "stdout",
     "output_type": "stream",
     "text": [
      "0.2 0.0\n",
      "{'test_accuracy': 0.8538547071905115, 'test_precision': 0.30644798921590655, 'test_recall': 0.6144144144144145}\n"
     ]
    }
   ],
   "source": [
    "undersample_range = [x*0.1 for x in range(11)]\n",
    "oversample_range = [x*0.1 for x in range(11)]\n",
    "clf = MultinomialNB()\n",
    "best_acc = 0\n",
    "under_fact = 0\n",
    "over_fact = 0\n",
    "for undersample in undersample_range:\n",
    "    for oversample in oversample_range:\n",
    "        avg_scores = {'test_accuracy':0, 'test_precision':0, 'test_recall':0}\n",
    "\n",
    "        total=[0,0,0,0]\n",
    "        for ix in range(10):\n",
    "            trnX, tstX, trnY, tstY = train_test_split(X, y, train_size=0.7, stratify=y)\n",
    "            balanceX, balanceY = balancing(trnX, trnY, undersample, oversample)\n",
    "            clf.fit(balanceX, balanceY)\n",
    "            prd_trn = clf.predict(balanceX)\n",
    "            prd_tst = clf.predict(tstX)\n",
    "            cnf_mtx_tst = metrics.confusion_matrix(tstY, prd_tst, labels)\n",
    "            tn, fp, fn, tp = cnf_mtx_tst.ravel()\n",
    "            total[0]+=tp\n",
    "            total[1]+=tn\n",
    "            total[2]+=fp\n",
    "            total[3]+=fn\n",
    "\n",
    "\n",
    "        avg_scores['test_accuracy'] = (total[0]+total[1])/(total[0]+total[1]+total[2]+total[3])\n",
    "        avg_scores['test_precision'] = total[0]/(total[0]+total[2])\n",
    "        avg_scores['test_recall'] = total[0]/(total[0]+total[3])\n",
    "\n",
    "        if avg_scores['test_accuracy'] > best_acc:\n",
    "            under_fact = undersample\n",
    "            over_fact = oversample\n",
    "            best_avg_scores = avg_scores\n",
    "            best_acc = avg_scores['test_accuracy']\n",
    "            \n",
    "print(under_fact, over_fact)\n",
    "print(best_avg_scores)"
   ]
  },
  {
   "cell_type": "markdown",
   "metadata": {},
   "source": [
    "## Gaussian"
   ]
  },
  {
   "cell_type": "code",
   "execution_count": 10,
   "metadata": {},
   "outputs": [
    {
     "name": "stdout",
     "output_type": "stream",
     "text": [
      "0.1 0.0\n",
      "{'test_accuracy': 0.765011119347665, 'test_precision': 0.2162925216912271, 'test_recall': 0.7074324324324325}\n"
     ]
    }
   ],
   "source": [
    "undersample_range = [x*0.1 for x in range(11)]\n",
    "oversample_range = [x*0.1 for x in range(11)]\n",
    "clf = GaussianNB()\n",
    "best_acc = 0\n",
    "under_fact = 0\n",
    "over_fact = 0\n",
    "for undersample in undersample_range:\n",
    "    for oversample in oversample_range:\n",
    "        avg_scores = {'test_accuracy':0, 'test_precision':0, 'test_recall':0}\n",
    "\n",
    "        total=[0,0,0,0]\n",
    "        for ix in range(20):\n",
    "            trnX, tstX, trnY, tstY = train_test_split(X, y, train_size=0.7, stratify=y)\n",
    "            balanceX, balanceY = balancing(trnX, trnY, undersample, oversample)\n",
    "            clf.fit(balanceX, balanceY)\n",
    "            prd_trn = clf.predict(balanceX)\n",
    "            prd_tst = clf.predict(tstX)\n",
    "            cnf_mtx_tst = metrics.confusion_matrix(tstY, prd_tst, labels)\n",
    "            tn, fp, fn, tp = cnf_mtx_tst.ravel()\n",
    "            total[0]+=tp\n",
    "            total[1]+=tn\n",
    "            total[2]+=fp\n",
    "            total[3]+=fn\n",
    "\n",
    "\n",
    "        avg_scores['test_accuracy'] = (total[0]+total[1])/(total[0]+total[1]+total[2]+total[3])\n",
    "        avg_scores['test_precision'] = total[0]/(total[0]+total[2])\n",
    "        avg_scores['test_recall'] = total[0]/(total[0]+total[3])\n",
    "\n",
    "        if avg_scores['test_accuracy'] > best_acc:\n",
    "            under_fact = undersample\n",
    "            over_fact = oversample\n",
    "            best_avg_scores = avg_scores\n",
    "            best_acc = avg_scores['test_accuracy']\n",
    "            \n",
    "print(under_fact, over_fact)\n",
    "print(best_avg_scores)"
   ]
  },
  {
   "cell_type": "markdown",
   "metadata": {},
   "source": [
    "## Bernoulli"
   ]
  },
  {
   "cell_type": "code",
   "execution_count": 11,
   "metadata": {},
   "outputs": [
    {
     "name": "stdout",
     "output_type": "stream",
     "text": [
      "0.2 0.0\n",
      "{'test_accuracy': 0.7907338769458858, 'test_precision': 0.23036360774437273, 'test_recall': 0.6592342342342342}\n"
     ]
    }
   ],
   "source": [
    "undersample_range = [x*0.1 for x in range(11)]\n",
    "oversample_range = [x*0.1 for x in range(11)]\n",
    "clf = BernoulliNB()\n",
    "best_acc = 0\n",
    "under_fact = 0\n",
    "over_fact = 0\n",
    "for undersample in undersample_range:\n",
    "    for oversample in oversample_range:\n",
    "        avg_scores = {'test_accuracy':0, 'test_precision':0, 'test_recall':0}\n",
    "\n",
    "        total=[0,0,0,0]\n",
    "        for ix in range(20):\n",
    "            trnX, tstX, trnY, tstY = train_test_split(X, y, train_size=0.7, stratify=y)\n",
    "            balanceX, balanceY = balancing(trnX, trnY, undersample, oversample)\n",
    "            clf.fit(balanceX, balanceY)\n",
    "            prd_trn = clf.predict(balanceX)\n",
    "            prd_tst = clf.predict(tstX)\n",
    "            cnf_mtx_tst = metrics.confusion_matrix(tstY, prd_tst, labels)\n",
    "            tn, fp, fn, tp = cnf_mtx_tst.ravel()\n",
    "            total[0]+=tp\n",
    "            total[1]+=tn\n",
    "            total[2]+=fp\n",
    "            total[3]+=fn\n",
    "\n",
    "\n",
    "        avg_scores['test_accuracy'] = (total[0]+total[1])/(total[0]+total[1]+total[2]+total[3])\n",
    "        avg_scores['test_precision'] = total[0]/(total[0]+total[2])\n",
    "        avg_scores['test_recall'] = total[0]/(total[0]+total[3])\n",
    "\n",
    "        if avg_scores['test_accuracy'] > best_acc:\n",
    "            under_fact = undersample\n",
    "            over_fact = oversample\n",
    "            best_avg_scores = avg_scores\n",
    "            best_acc = avg_scores['test_accuracy']\n",
    "            \n",
    "print(under_fact, over_fact)\n",
    "print(best_avg_scores)"
   ]
  },
  {
   "cell_type": "markdown",
   "metadata": {},
   "source": [
    "#  Feature Selection"
   ]
  },
  {
   "cell_type": "markdown",
   "metadata": {},
   "source": [
    "## Multinomial SFS 20-10"
   ]
  },
  {
   "cell_type": "code",
   "execution_count": 6,
   "metadata": {
    "scrolled": true
   },
   "outputs": [
    {
     "name": "stdout",
     "output_type": "stream",
     "text": [
      "(0, 1, 2, 3, 4, 5, 8, 9, 79, 100, 108, 120, 206, 214, 309, 440, 449, 788, 997, 1019)\n"
     ]
    }
   ],
   "source": [
    "from mlxtend.feature_selection import SequentialFeatureSelector as SFS\n",
    "#MultinomialNB cannot compute negative values.\n",
    "clf=MultinomialNB()\n",
    "avg_scores = {'test_accuracy':0, 'test_precision':0, 'test_recall':0}\n",
    "sfs1 = SFS(clf, \n",
    "           k_features=20, \n",
    "           forward=True, # if forward = True then SFS otherwise SBS\n",
    "           scoring='accuracy'\n",
    "           ).fit(X,y)\n",
    "for ix in range(X.shape[1],0):\n",
    "    if ix not in sfs1.k_feature_idx_:\n",
    "        X = np.delete(X,ix,1)\n",
    "\n",
    "print(sfs1.k_feature_idx_)"
   ]
  },
  {
   "cell_type": "code",
   "execution_count": 23,
   "metadata": {},
   "outputs": [
    {
     "name": "stdout",
     "output_type": "stream",
     "text": [
      "(8992, 20)\n",
      "{'test_accuracy': 0.9243365455893254, 'test_precision': 0.7867694283879255, 'test_recall': 0.11036036036036036}\n"
     ]
    }
   ],
   "source": [
    "sfs1.k_feature_idx_ = (0, 1, 2, 3, 4, 5, 8, 9, 79, 100, 108, 120, 206, 214, 309, 440, 449, 788, 997, 1019)\n",
    "data: pd.DataFrame = pd.read_csv('datasets/qsar_oral_toxicity_v2.csv')\n",
    "y: np.ndarray = data.pop('IS_TOXIC').values\n",
    "X: np.ndarray = data.values\n",
    "labels = pd.unique(y)\n",
    "for ix in range(X.shape[1]-1,0,-1):\n",
    "    if ix not in sfs1.k_feature_idx_:\n",
    "        X = np.delete(X,ix,1)\n",
    "print(X.shape)\n",
    "        \n",
    "total=[0,0,0,0]\n",
    "for ix in range(100):\n",
    "    trnX, tstX, trnY, tstY = train_test_split(X, y, train_size=0.7, stratify=y)\n",
    "    clf.fit(trnX, trnY)\n",
    "    prd_trn = clf.predict(trnX)\n",
    "    prd_tst = clf.predict(tstX)\n",
    "    cnf_mtx_tst = metrics.confusion_matrix(tstY, prd_tst, labels)\n",
    "    tn, fp, fn, tp = cnf_mtx_tst.ravel()\n",
    "    total[0]+=tp\n",
    "    total[1]+=tn\n",
    "    total[2]+=fp\n",
    "    total[3]+=fn\n",
    "\n",
    "    avg_scores['test_accuracy'] = (total[0]+total[1])/(total[0]+total[1]+total[2]+total[3])\n",
    "    avg_scores['test_precision'] = total[0]/(total[0]+total[2])\n",
    "    avg_scores['test_recall'] = total[0]/(total[0]+total[3])\n",
    "\n",
    "print(avg_scores)"
   ]
  },
  {
   "cell_type": "code",
   "execution_count": 6,
   "metadata": {
    "scrolled": true
   },
   "outputs": [
    {
     "name": "stdout",
     "output_type": "stream",
     "text": [
      "(0, 1, 2, 3, 4, 5, 120, 214, 449, 997)\n"
     ]
    }
   ],
   "source": [
    "from mlxtend.feature_selection import SequentialFeatureSelector as SFS\n",
    "#MultinomialNB cannot compute negative values.\n",
    "clf=MultinomialNB()\n",
    "avg_scores = {'test_accuracy':0, 'test_precision':0, 'test_recall':0}\n",
    "sfs1 = SFS(clf, \n",
    "           k_features=10, \n",
    "           forward=True, # if forward = True then SFS otherwise SBS\n",
    "           scoring='accuracy'\n",
    "           ).fit(X,y)\n",
    "for ix in range(X.shape[1],0):\n",
    "    if ix not in sfs1.k_feature_idx_:\n",
    "        X = np.delete(X,ix,1)\n",
    "\n",
    "print(sfs1.k_feature_idx_)"
   ]
  },
  {
   "cell_type": "code",
   "execution_count": 24,
   "metadata": {},
   "outputs": [
    {
     "name": "stdout",
     "output_type": "stream",
     "text": [
      "(8992, 10)\n",
      "{'test_accuracy': 0.9243847294292068, 'test_precision': 0.8085763293310463, 'test_recall': 0.10617117117117117}\n"
     ]
    }
   ],
   "source": [
    "sfs1.k_feature_idx_ = (0, 1, 2, 3, 4, 5, 120, 214, 449, 997)\n",
    "data: pd.DataFrame = pd.read_csv('datasets/qsar_oral_toxicity_v2.csv')\n",
    "y: np.ndarray = data.pop('IS_TOXIC').values\n",
    "X: np.ndarray = data.values\n",
    "labels = pd.unique(y)\n",
    "for ix in range(X.shape[1]-1,0,-1):\n",
    "    if ix not in sfs1.k_feature_idx_:\n",
    "        X = np.delete(X,ix,1)\n",
    "print(X.shape)\n",
    "total=[0,0,0,0]\n",
    "for ix in range(100):\n",
    "    trnX, tstX, trnY, tstY = train_test_split(X, y, train_size=0.7, stratify=y)\n",
    "    clf.fit(trnX, trnY)\n",
    "    prd_trn = clf.predict(trnX)\n",
    "    prd_tst = clf.predict(tstX)\n",
    "    cnf_mtx_tst = metrics.confusion_matrix(tstY, prd_tst, labels)\n",
    "    tn, fp, fn, tp = cnf_mtx_tst.ravel()\n",
    "    total[0]+=tp\n",
    "    total[1]+=tn\n",
    "    total[2]+=fp\n",
    "    total[3]+=fn\n",
    "\n",
    "avg_scores['test_accuracy'] = (total[0]+total[1])/(total[0]+total[1]+total[2]+total[3])\n",
    "avg_scores['test_precision'] = total[0]/(total[0]+total[2])\n",
    "avg_scores['test_recall'] = total[0]/(total[0]+total[3])\n",
    "\n",
    "print(avg_scores)"
   ]
  },
  {
   "cell_type": "markdown",
   "metadata": {},
   "source": [
    "## Multinomial SBS 20"
   ]
  },
  {
   "cell_type": "code",
   "execution_count": null,
   "metadata": {},
   "outputs": [],
   "source": [
    "from mlxtend.feature_selection import SequentialFeatureSelector as SFS\n",
    "#MultinomialNB cannot compute negative values.\n",
    "clf=MultinomialNB()\n",
    "avg_scores = {'test_accuracy':0, 'test_precision':0, 'test_recall':0}\n",
    "sfs1 = SFS(clf, \n",
    "           k_features=20, \n",
    "           forward=False, # if forward = True then SFS otherwise SBS\n",
    "           scoring='accuracy'\n",
    "           ).fit(X,y)\n",
    "for ix in range(X.shape[1],0):\n",
    "    if ix not in sfs1.k_feature_idx_:\n",
    "        X = np.delete(X,ix,1)\n",
    "\n",
    "print(sfs1.k_feature_idx_)"
   ]
  },
  {
   "cell_type": "code",
   "execution_count": null,
   "metadata": {},
   "outputs": [],
   "source": [
    "total=[0,0,0,0]\n",
    "for ix in range(100):\n",
    "    trnX, tstX, trnY, tstY = train_test_split(X, y, train_size=0.7, stratify=y)\n",
    "    clf.fit(trnX, trnY)\n",
    "    prd_trn = clf.predict(trnX)\n",
    "    prd_tst = clf.predict(tstX)\n",
    "    cnf_mtx_tst = metrics.confusion_matrix(tstY, prd_tst, labels)\n",
    "    tn, fp, fn, tp = cnf_mtx_tst.ravel()\n",
    "    total[0]+=tp\n",
    "    total[1]+=tn\n",
    "    total[2]+=fp\n",
    "    total[3]+=fn\n",
    "\n",
    "    avg_scores['test_accuracy'] = (total[0]+total[1])/(total[0]+total[1]+total[2]+total[3])\n",
    "    avg_scores['test_precision'] = total[0]/(total[0]+total[2])\n",
    "    avg_scores['test_recall'] = total[0]/(total[0]+total[3])\n",
    "\n",
    "print(avg_scores)"
   ]
  }
 ],
 "metadata": {
  "kernelspec": {
   "display_name": "Python 3",
   "language": "python",
   "name": "python3"
  },
  "language_info": {
   "codemirror_mode": {
    "name": "ipython",
    "version": 3
   },
   "file_extension": ".py",
   "mimetype": "text/x-python",
   "name": "python",
   "nbconvert_exporter": "python",
   "pygments_lexer": "ipython3",
   "version": "3.8.3"
  }
 },
 "nbformat": 4,
 "nbformat_minor": 4
}
