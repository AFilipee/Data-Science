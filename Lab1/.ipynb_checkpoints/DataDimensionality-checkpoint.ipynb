{
 "cells": [
  {
   "cell_type": "code",
   "execution_count": 5,
   "metadata": {},
   "outputs": [
    {
     "ename": "AttributeError",
     "evalue": "module 'matplotlib.dates' has no attribute '_reset_epoch_test_example'",
     "output_type": "error",
     "traceback": [
      "\u001b[0;31m---------------------------------------------------------------------------\u001b[0m",
      "\u001b[0;31mAttributeError\u001b[0m                            Traceback (most recent call last)",
      "\u001b[0;32m<ipython-input-5-db3b58e3c937>\u001b[0m in \u001b[0;36m<module>\u001b[0;34m\u001b[0m\n\u001b[1;32m      1\u001b[0m \u001b[0;32mimport\u001b[0m \u001b[0mpandas\u001b[0m \u001b[0;32mas\u001b[0m \u001b[0mpd\u001b[0m\u001b[0;34m\u001b[0m\u001b[0;34m\u001b[0m\u001b[0m\n\u001b[1;32m      2\u001b[0m \u001b[0;32mimport\u001b[0m \u001b[0mmatplotlib\u001b[0m\u001b[0;34m.\u001b[0m\u001b[0mpyplot\u001b[0m \u001b[0;32mas\u001b[0m \u001b[0mplt\u001b[0m\u001b[0;34m\u001b[0m\u001b[0;34m\u001b[0m\u001b[0m\n\u001b[0;32m----> 3\u001b[0;31m \u001b[0;32mimport\u001b[0m \u001b[0mds_functions\u001b[0m \u001b[0;32mas\u001b[0m \u001b[0mds\u001b[0m\u001b[0;34m\u001b[0m\u001b[0;34m\u001b[0m\u001b[0m\n\u001b[0m\u001b[1;32m      4\u001b[0m \u001b[0;32mimport\u001b[0m \u001b[0mdatetime\u001b[0m\u001b[0;34m\u001b[0m\u001b[0;34m\u001b[0m\u001b[0m\n\u001b[1;32m      5\u001b[0m \u001b[0;32mimport\u001b[0m \u001b[0mnumpy\u001b[0m \u001b[0;32mas\u001b[0m \u001b[0mnp\u001b[0m\u001b[0;34m\u001b[0m\u001b[0;34m\u001b[0m\u001b[0m\n",
      "\u001b[0;32m~/work/DataScience/Project/Lab1/ds_functions.py\u001b[0m in \u001b[0;36m<module>\u001b[0;34m\u001b[0m\n\u001b[1;32m      9\u001b[0m \u001b[0;34m\u001b[0m\u001b[0m\n\u001b[1;32m     10\u001b[0m \u001b[0;34m\u001b[0m\u001b[0m\n\u001b[0;32m---> 11\u001b[0;31m \u001b[0mmdates\u001b[0m\u001b[0;34m.\u001b[0m\u001b[0m_reset_epoch_test_example\u001b[0m\u001b[0;34m(\u001b[0m\u001b[0;34m)\u001b[0m\u001b[0;34m\u001b[0m\u001b[0;34m\u001b[0m\u001b[0m\n\u001b[0m\u001b[1;32m     12\u001b[0m \u001b[0mmdates\u001b[0m\u001b[0;34m.\u001b[0m\u001b[0mset_epoch\u001b[0m\u001b[0;34m(\u001b[0m\u001b[0;34m'0000-12-31T00:00:00'\u001b[0m\u001b[0;34m)\u001b[0m  \u001b[0;31m# old epoch (pre MPL 3.3)\u001b[0m\u001b[0;34m\u001b[0m\u001b[0;34m\u001b[0m\u001b[0m\n\u001b[1;32m     13\u001b[0m \u001b[0;34m\u001b[0m\u001b[0m\n",
      "\u001b[0;31mAttributeError\u001b[0m: module 'matplotlib.dates' has no attribute '_reset_epoch_test_example'"
     ]
    }
   ],
   "source": [
    "import pandas as pd\n",
    "import matplotlib.pyplot as plt\n",
    "import ds_functions as ds\n",
    "\n",
    "\n",
    "from pandas.plotting import register_matplotlib_converters\n",
    "\n",
    "register_matplotlib_converters()\n",
    "\n",
    "f1 = open(\"heart_failure_dimensionality.txt\", \"w\")\n",
    "f2 = open(\"qsar_oral_toxicity_dimensionality.txt\", \"w\")\n",
    "data1 = pd.read_csv('datasets/heart_failure_clinical_records_dataset_upgraded.csv', parse_dates=True, infer_datetime_format=True)\n",
    "data2 = pd.read_csv('datasets/qsar_oral_toxicity_upgraded.csv', parse_dates=True, infer_datetime_format=True)\n",
    "f1.write(\"Data size: \" + str(data1.shape))\n",
    "f2.write(\"Data size: \" + str(data2.shape))\n",
    "\n",
    "plt.figure(figsize=(4,2))\n",
    "values = {'nr records': data1.shape[0], 'nr variables': data1.shape[1]}\n",
    "ds.bar_chart(values.keys(), values.values(), title='Nr of records vs nr variables')\n",
    "plt.savefig('heart_failure_datasize.jpg')\n",
    "\n",
    "plt.figure(figsize=(4,2))\n",
    "values = {'nr records': data2.shape[0], 'nr variables': data2.shape[1]}\n",
    "ds.bar_chart(values.keys(), values.values(), title='Nr of records vs nr variables')\n",
    "plt.savefig('qsar_oral_toxicity_datasize.jpg')\n",
    "\n",
    "cat_vars = data1.select_dtypes(include='object')\n",
    "data1[cat_vars.columns] = data1.select_dtypes(['object']).apply(lambda x: x.astype('category'))\n",
    "f1.write(\"\\n\\nData Types\" + str(data1.dtypes))\n",
    "\n",
    "cat_vars = data2.select_dtypes(include='object')\n",
    "data2[cat_vars.columns] = data2.select_dtypes(['object']).apply(lambda x: x.astype('category'))\n",
    "f2.write(\"\\n\\nData Types\" + str(data2.dtypes))\n",
    "\n",
    "plt.figure()\n",
    "mv1 = {}\n",
    "for var in data1:\n",
    "    mv1[var] = data1[var].isna().sum()\n",
    "ds.bar_chart(mv1.keys(), mv1.values(), title='Nr of missing values per variable',\n",
    "               xlabel='variables',\n",
    "               ylabel='nr missing values')\n",
    "plt.savefig('heart_failure_missingvalues.jpg')\n",
    "f1.write(\"\\n\\nMissing Values: \" + str(mv1.values()))\n",
    "\n",
    "plt.figure()\n",
    "mv2 = {}\n",
    "for var in data2:\n",
    "    mv2[var] = data2[var].isna().sum()\n",
    "ds.bar_chart(mv2.keys(), mv2.values(), title='Nr of missing values per variable',\n",
    "               xlabel='variables',\n",
    "               ylabel='nr missing values')\n",
    "plt.savefig('qsar_oral_toxicity_missingvalues.jpg')\n",
    "f2.write(\"\\n\\nMissing Values: \" + str(mv2.values()))\n",
    "\n",
    "f1.close()\n",
    "f2.close()\n"
   ]
  }
 ],
 "metadata": {
  "kernelspec": {
   "display_name": "Python 3",
   "language": "python",
   "name": "python3"
  },
  "language_info": {
   "codemirror_mode": {
    "name": "ipython",
    "version": 3
   },
   "file_extension": ".py",
   "mimetype": "text/x-python",
   "name": "python",
   "nbconvert_exporter": "python",
   "pygments_lexer": "ipython3",
   "version": "3.8.3"
  }
 },
 "nbformat": 4,
 "nbformat_minor": 4
}
